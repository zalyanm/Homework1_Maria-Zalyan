{
 "cells": [
  {
   "cell_type": "code",
   "execution_count": 1,
   "id": "7a794c65",
   "metadata": {},
   "outputs": [],
   "source": [
    "import pandas as pd \n",
    "import matplotlib.pyplot as plt \n",
    "import seaborn as sns \n",
    "import numpy as np \n",
    "import statsmodels.api as sm \n",
    "from statsmodels.api import qqplot \n",
    "from statsmodels.stats.diagnostic import het_breuschpagan,linear_rainbow \n",
    "from scipy.stats import shapiro \n",
    "from statsmodels.stats.outliers_influence import variance_inflation_factor \n",
    "from sklearn.model_selection import train_test_split \n",
    "from sklearn.metrics import r2_score "
   ]
  },
  {
   "cell_type": "code",
   "execution_count": 2,
   "id": "2430ecae",
   "metadata": {},
   "outputs": [],
   "source": [
    "import pandas as pd\n",
    "import matplotlib.pyplot as plt\n",
    "import numpy as np\n",
    "from statsmodels.formula.api import ols #for linear regression\n",
    "import seaborn as sns #for heatmap\n",
    "import statsmodels.api as sm\n",
    "from scipy import stats\n",
    "from sklearn.metrics import r2_score, mean_squared_error #R-squared\n",
    "from sklearn.model_selection import train_test_split #for train and test split\n",
    "from statsmodels.api import qqplot \n",
    "from scipy.stats import shapiro, ttest_ind\n",
    "from statsmodels.stats.diagnostic import het_breuschpagan,linear_rainbow  \n",
    "from sklearn import linear_model"
   ]
  },
  {
   "cell_type": "code",
   "execution_count": 3,
   "id": "8b022231",
   "metadata": {},
   "outputs": [
    {
     "name": "stderr",
     "output_type": "stream",
     "text": [
      "/opt/anaconda3/lib/python3.8/site-packages/openpyxl/worksheet/_reader.py:312: UserWarning: Unknown extension is not supported and will be removed\n",
      "  warn(msg)\n"
     ]
    }
   ],
   "source": [
    "#importing the data \n",
    "data = pd.read_excel(\"Student_data.xlsx\",sheet_name=\"Data\")"
   ]
  },
  {
   "cell_type": "code",
   "execution_count": 4,
   "id": "c1480874",
   "metadata": {},
   "outputs": [
    {
     "name": "stdout",
     "output_type": "stream",
     "text": [
      "<class 'pandas.core.frame.DataFrame'>\n",
      "RangeIndex: 395 entries, 0 to 394\n",
      "Data columns (total 32 columns):\n",
      " #   Column       Non-Null Count  Dtype \n",
      "---  ------       --------------  ----- \n",
      " 0   StudentID    395 non-null    int64 \n",
      " 1   school2      395 non-null    object\n",
      " 2   sex          395 non-null    object\n",
      " 3   age          395 non-null    int64 \n",
      " 4   address      395 non-null    object\n",
      " 5   famsize      395 non-null    object\n",
      " 6   Pstatus      395 non-null    object\n",
      " 7   Medu         395 non-null    int64 \n",
      " 8   Fedu         395 non-null    int64 \n",
      " 9   Mjob         395 non-null    object\n",
      " 10  Fjob         395 non-null    object\n",
      " 11  reason       395 non-null    object\n",
      " 12  guardian     395 non-null    object\n",
      " 13  traveltime   395 non-null    int64 \n",
      " 14  studytime    395 non-null    int64 \n",
      " 15  failures     395 non-null    int64 \n",
      " 16  schoolsup    395 non-null    object\n",
      " 17  famsup       395 non-null    object\n",
      " 18  paid         395 non-null    object\n",
      " 19  activities   395 non-null    object\n",
      " 20  nursery      395 non-null    object\n",
      " 21  higher       395 non-null    object\n",
      " 22  internet     395 non-null    object\n",
      " 23  romantic     395 non-null    object\n",
      " 24  famrel       395 non-null    int64 \n",
      " 25  freetime     395 non-null    int64 \n",
      " 26  goout        395 non-null    int64 \n",
      " 27  Dalc         395 non-null    int64 \n",
      " 28  Walc         395 non-null    int64 \n",
      " 29  health       395 non-null    int64 \n",
      " 30  absences     395 non-null    int64 \n",
      " 31  Final_Grade  395 non-null    int64 \n",
      "dtypes: int64(15), object(17)\n",
      "memory usage: 98.9+ KB\n"
     ]
    }
   ],
   "source": [
    "data.info()"
   ]
  },
  {
   "cell_type": "code",
   "execution_count": 5,
   "id": "cfdbd223",
   "metadata": {},
   "outputs": [
    {
     "data": {
      "text/html": [
       "<div>\n",
       "<style scoped>\n",
       "    .dataframe tbody tr th:only-of-type {\n",
       "        vertical-align: middle;\n",
       "    }\n",
       "\n",
       "    .dataframe tbody tr th {\n",
       "        vertical-align: top;\n",
       "    }\n",
       "\n",
       "    .dataframe thead th {\n",
       "        text-align: right;\n",
       "    }\n",
       "</style>\n",
       "<table border=\"1\" class=\"dataframe\">\n",
       "  <thead>\n",
       "    <tr style=\"text-align: right;\">\n",
       "      <th></th>\n",
       "      <th>StudentID</th>\n",
       "      <th>school2</th>\n",
       "      <th>sex</th>\n",
       "      <th>age</th>\n",
       "      <th>address</th>\n",
       "      <th>famsize</th>\n",
       "      <th>Pstatus</th>\n",
       "      <th>Medu</th>\n",
       "      <th>Fedu</th>\n",
       "      <th>Mjob</th>\n",
       "      <th>...</th>\n",
       "      <th>internet</th>\n",
       "      <th>romantic</th>\n",
       "      <th>famrel</th>\n",
       "      <th>freetime</th>\n",
       "      <th>goout</th>\n",
       "      <th>Dalc</th>\n",
       "      <th>Walc</th>\n",
       "      <th>health</th>\n",
       "      <th>absences</th>\n",
       "      <th>Final_Grade</th>\n",
       "    </tr>\n",
       "  </thead>\n",
       "  <tbody>\n",
       "    <tr>\n",
       "      <th>0</th>\n",
       "      <td>1</td>\n",
       "      <td>GP</td>\n",
       "      <td>F</td>\n",
       "      <td>18</td>\n",
       "      <td>U</td>\n",
       "      <td>GT3</td>\n",
       "      <td>A</td>\n",
       "      <td>4</td>\n",
       "      <td>4</td>\n",
       "      <td>at_home</td>\n",
       "      <td>...</td>\n",
       "      <td>no</td>\n",
       "      <td>no</td>\n",
       "      <td>4</td>\n",
       "      <td>3</td>\n",
       "      <td>4</td>\n",
       "      <td>1</td>\n",
       "      <td>1</td>\n",
       "      <td>3</td>\n",
       "      <td>6</td>\n",
       "      <td>6</td>\n",
       "    </tr>\n",
       "    <tr>\n",
       "      <th>1</th>\n",
       "      <td>2</td>\n",
       "      <td>GP</td>\n",
       "      <td>F</td>\n",
       "      <td>17</td>\n",
       "      <td>U</td>\n",
       "      <td>GT3</td>\n",
       "      <td>T</td>\n",
       "      <td>1</td>\n",
       "      <td>1</td>\n",
       "      <td>at_home</td>\n",
       "      <td>...</td>\n",
       "      <td>yes</td>\n",
       "      <td>no</td>\n",
       "      <td>5</td>\n",
       "      <td>3</td>\n",
       "      <td>3</td>\n",
       "      <td>1</td>\n",
       "      <td>1</td>\n",
       "      <td>3</td>\n",
       "      <td>4</td>\n",
       "      <td>6</td>\n",
       "    </tr>\n",
       "    <tr>\n",
       "      <th>2</th>\n",
       "      <td>3</td>\n",
       "      <td>GP</td>\n",
       "      <td>F</td>\n",
       "      <td>15</td>\n",
       "      <td>U</td>\n",
       "      <td>LE3</td>\n",
       "      <td>T</td>\n",
       "      <td>1</td>\n",
       "      <td>1</td>\n",
       "      <td>at_home</td>\n",
       "      <td>...</td>\n",
       "      <td>yes</td>\n",
       "      <td>no</td>\n",
       "      <td>4</td>\n",
       "      <td>3</td>\n",
       "      <td>2</td>\n",
       "      <td>2</td>\n",
       "      <td>3</td>\n",
       "      <td>3</td>\n",
       "      <td>10</td>\n",
       "      <td>10</td>\n",
       "    </tr>\n",
       "    <tr>\n",
       "      <th>3</th>\n",
       "      <td>4</td>\n",
       "      <td>GP</td>\n",
       "      <td>F</td>\n",
       "      <td>15</td>\n",
       "      <td>U</td>\n",
       "      <td>GT3</td>\n",
       "      <td>T</td>\n",
       "      <td>4</td>\n",
       "      <td>2</td>\n",
       "      <td>health</td>\n",
       "      <td>...</td>\n",
       "      <td>yes</td>\n",
       "      <td>yes</td>\n",
       "      <td>3</td>\n",
       "      <td>2</td>\n",
       "      <td>2</td>\n",
       "      <td>1</td>\n",
       "      <td>1</td>\n",
       "      <td>5</td>\n",
       "      <td>2</td>\n",
       "      <td>15</td>\n",
       "    </tr>\n",
       "    <tr>\n",
       "      <th>4</th>\n",
       "      <td>5</td>\n",
       "      <td>GP</td>\n",
       "      <td>F</td>\n",
       "      <td>16</td>\n",
       "      <td>U</td>\n",
       "      <td>GT3</td>\n",
       "      <td>T</td>\n",
       "      <td>3</td>\n",
       "      <td>3</td>\n",
       "      <td>other</td>\n",
       "      <td>...</td>\n",
       "      <td>no</td>\n",
       "      <td>no</td>\n",
       "      <td>4</td>\n",
       "      <td>3</td>\n",
       "      <td>2</td>\n",
       "      <td>1</td>\n",
       "      <td>2</td>\n",
       "      <td>5</td>\n",
       "      <td>4</td>\n",
       "      <td>10</td>\n",
       "    </tr>\n",
       "  </tbody>\n",
       "</table>\n",
       "<p>5 rows × 32 columns</p>\n",
       "</div>"
      ],
      "text/plain": [
       "   StudentID school2 sex  age address famsize Pstatus  Medu  Fedu     Mjob  \\\n",
       "0          1      GP   F   18       U     GT3       A     4     4  at_home   \n",
       "1          2      GP   F   17       U     GT3       T     1     1  at_home   \n",
       "2          3      GP   F   15       U     LE3       T     1     1  at_home   \n",
       "3          4      GP   F   15       U     GT3       T     4     2   health   \n",
       "4          5      GP   F   16       U     GT3       T     3     3    other   \n",
       "\n",
       "   ... internet romantic famrel  freetime  goout  Dalc Walc health absences  \\\n",
       "0  ...       no       no      4         3      4     1    1      3        6   \n",
       "1  ...      yes       no      5         3      3     1    1      3        4   \n",
       "2  ...      yes       no      4         3      2     2    3      3       10   \n",
       "3  ...      yes      yes      3         2      2     1    1      5        2   \n",
       "4  ...       no       no      4         3      2     1    2      5        4   \n",
       "\n",
       "  Final_Grade  \n",
       "0           6  \n",
       "1           6  \n",
       "2          10  \n",
       "3          15  \n",
       "4          10  \n",
       "\n",
       "[5 rows x 32 columns]"
      ]
     },
     "execution_count": 5,
     "metadata": {},
     "output_type": "execute_result"
    }
   ],
   "source": [
    "# first 5 rows\n",
    "data.head()"
   ]
  },
  {
   "cell_type": "code",
   "execution_count": 6,
   "id": "3dffb6f6",
   "metadata": {},
   "outputs": [
    {
     "name": "stdout",
     "output_type": "stream",
     "text": [
      "['StudentID', 'school2', 'sex', 'age', 'address', 'famsize', 'Pstatus', 'Medu', 'Fedu', 'Mjob', 'Fjob', 'reason', 'guardian', 'traveltime', 'studytime', 'failures', 'schoolsup', 'famsup', 'paid', 'activities', 'nursery', 'higher', 'internet', 'romantic', 'famrel', 'freetime', 'goout', 'Dalc', 'Walc', 'health', 'absences', 'Final_Grade']\n"
     ]
    }
   ],
   "source": [
    "#looking at the columns of the dataset\n",
    "\n",
    "print(data.columns.tolist())"
   ]
  },
  {
   "cell_type": "code",
   "execution_count": 7,
   "id": "dd579ec4",
   "metadata": {},
   "outputs": [
    {
     "data": {
      "text/html": [
       "<div>\n",
       "<style scoped>\n",
       "    .dataframe tbody tr th:only-of-type {\n",
       "        vertical-align: middle;\n",
       "    }\n",
       "\n",
       "    .dataframe tbody tr th {\n",
       "        vertical-align: top;\n",
       "    }\n",
       "\n",
       "    .dataframe thead th {\n",
       "        text-align: right;\n",
       "    }\n",
       "</style>\n",
       "<table border=\"1\" class=\"dataframe\">\n",
       "  <thead>\n",
       "    <tr style=\"text-align: right;\">\n",
       "      <th></th>\n",
       "      <th>StudentID</th>\n",
       "      <th>age</th>\n",
       "      <th>Medu</th>\n",
       "      <th>Fedu</th>\n",
       "      <th>traveltime</th>\n",
       "      <th>studytime</th>\n",
       "      <th>failures</th>\n",
       "      <th>famrel</th>\n",
       "      <th>freetime</th>\n",
       "      <th>goout</th>\n",
       "      <th>Dalc</th>\n",
       "      <th>Walc</th>\n",
       "      <th>health</th>\n",
       "      <th>absences</th>\n",
       "      <th>Final_Grade</th>\n",
       "    </tr>\n",
       "  </thead>\n",
       "  <tbody>\n",
       "    <tr>\n",
       "      <th>count</th>\n",
       "      <td>395.000000</td>\n",
       "      <td>395.000000</td>\n",
       "      <td>395.000000</td>\n",
       "      <td>395.000000</td>\n",
       "      <td>395.000000</td>\n",
       "      <td>395.000000</td>\n",
       "      <td>395.000000</td>\n",
       "      <td>395.000000</td>\n",
       "      <td>395.000000</td>\n",
       "      <td>395.000000</td>\n",
       "      <td>395.000000</td>\n",
       "      <td>395.000000</td>\n",
       "      <td>395.000000</td>\n",
       "      <td>395.000000</td>\n",
       "      <td>395.000000</td>\n",
       "    </tr>\n",
       "    <tr>\n",
       "      <th>mean</th>\n",
       "      <td>198.000000</td>\n",
       "      <td>16.696203</td>\n",
       "      <td>2.749367</td>\n",
       "      <td>2.521519</td>\n",
       "      <td>1.448101</td>\n",
       "      <td>2.035443</td>\n",
       "      <td>0.334177</td>\n",
       "      <td>3.944304</td>\n",
       "      <td>3.235443</td>\n",
       "      <td>3.108861</td>\n",
       "      <td>1.481013</td>\n",
       "      <td>2.291139</td>\n",
       "      <td>3.554430</td>\n",
       "      <td>5.708861</td>\n",
       "      <td>10.415190</td>\n",
       "    </tr>\n",
       "    <tr>\n",
       "      <th>std</th>\n",
       "      <td>114.170924</td>\n",
       "      <td>1.276043</td>\n",
       "      <td>1.094735</td>\n",
       "      <td>1.088201</td>\n",
       "      <td>0.697505</td>\n",
       "      <td>0.839240</td>\n",
       "      <td>0.743651</td>\n",
       "      <td>0.896659</td>\n",
       "      <td>0.998862</td>\n",
       "      <td>1.113278</td>\n",
       "      <td>0.890741</td>\n",
       "      <td>1.287897</td>\n",
       "      <td>1.390303</td>\n",
       "      <td>8.003096</td>\n",
       "      <td>4.581443</td>\n",
       "    </tr>\n",
       "    <tr>\n",
       "      <th>min</th>\n",
       "      <td>1.000000</td>\n",
       "      <td>15.000000</td>\n",
       "      <td>0.000000</td>\n",
       "      <td>0.000000</td>\n",
       "      <td>1.000000</td>\n",
       "      <td>1.000000</td>\n",
       "      <td>0.000000</td>\n",
       "      <td>1.000000</td>\n",
       "      <td>1.000000</td>\n",
       "      <td>1.000000</td>\n",
       "      <td>1.000000</td>\n",
       "      <td>1.000000</td>\n",
       "      <td>1.000000</td>\n",
       "      <td>0.000000</td>\n",
       "      <td>0.000000</td>\n",
       "    </tr>\n",
       "    <tr>\n",
       "      <th>25%</th>\n",
       "      <td>99.500000</td>\n",
       "      <td>16.000000</td>\n",
       "      <td>2.000000</td>\n",
       "      <td>2.000000</td>\n",
       "      <td>1.000000</td>\n",
       "      <td>1.000000</td>\n",
       "      <td>0.000000</td>\n",
       "      <td>4.000000</td>\n",
       "      <td>3.000000</td>\n",
       "      <td>2.000000</td>\n",
       "      <td>1.000000</td>\n",
       "      <td>1.000000</td>\n",
       "      <td>3.000000</td>\n",
       "      <td>0.000000</td>\n",
       "      <td>8.000000</td>\n",
       "    </tr>\n",
       "    <tr>\n",
       "      <th>50%</th>\n",
       "      <td>198.000000</td>\n",
       "      <td>17.000000</td>\n",
       "      <td>3.000000</td>\n",
       "      <td>2.000000</td>\n",
       "      <td>1.000000</td>\n",
       "      <td>2.000000</td>\n",
       "      <td>0.000000</td>\n",
       "      <td>4.000000</td>\n",
       "      <td>3.000000</td>\n",
       "      <td>3.000000</td>\n",
       "      <td>1.000000</td>\n",
       "      <td>2.000000</td>\n",
       "      <td>4.000000</td>\n",
       "      <td>4.000000</td>\n",
       "      <td>11.000000</td>\n",
       "    </tr>\n",
       "    <tr>\n",
       "      <th>75%</th>\n",
       "      <td>296.500000</td>\n",
       "      <td>18.000000</td>\n",
       "      <td>4.000000</td>\n",
       "      <td>3.000000</td>\n",
       "      <td>2.000000</td>\n",
       "      <td>2.000000</td>\n",
       "      <td>0.000000</td>\n",
       "      <td>5.000000</td>\n",
       "      <td>4.000000</td>\n",
       "      <td>4.000000</td>\n",
       "      <td>2.000000</td>\n",
       "      <td>3.000000</td>\n",
       "      <td>5.000000</td>\n",
       "      <td>8.000000</td>\n",
       "      <td>14.000000</td>\n",
       "    </tr>\n",
       "    <tr>\n",
       "      <th>max</th>\n",
       "      <td>395.000000</td>\n",
       "      <td>22.000000</td>\n",
       "      <td>4.000000</td>\n",
       "      <td>4.000000</td>\n",
       "      <td>4.000000</td>\n",
       "      <td>4.000000</td>\n",
       "      <td>3.000000</td>\n",
       "      <td>5.000000</td>\n",
       "      <td>5.000000</td>\n",
       "      <td>5.000000</td>\n",
       "      <td>5.000000</td>\n",
       "      <td>5.000000</td>\n",
       "      <td>5.000000</td>\n",
       "      <td>75.000000</td>\n",
       "      <td>20.000000</td>\n",
       "    </tr>\n",
       "  </tbody>\n",
       "</table>\n",
       "</div>"
      ],
      "text/plain": [
       "        StudentID         age        Medu        Fedu  traveltime   studytime  \\\n",
       "count  395.000000  395.000000  395.000000  395.000000  395.000000  395.000000   \n",
       "mean   198.000000   16.696203    2.749367    2.521519    1.448101    2.035443   \n",
       "std    114.170924    1.276043    1.094735    1.088201    0.697505    0.839240   \n",
       "min      1.000000   15.000000    0.000000    0.000000    1.000000    1.000000   \n",
       "25%     99.500000   16.000000    2.000000    2.000000    1.000000    1.000000   \n",
       "50%    198.000000   17.000000    3.000000    2.000000    1.000000    2.000000   \n",
       "75%    296.500000   18.000000    4.000000    3.000000    2.000000    2.000000   \n",
       "max    395.000000   22.000000    4.000000    4.000000    4.000000    4.000000   \n",
       "\n",
       "         failures      famrel    freetime       goout        Dalc        Walc  \\\n",
       "count  395.000000  395.000000  395.000000  395.000000  395.000000  395.000000   \n",
       "mean     0.334177    3.944304    3.235443    3.108861    1.481013    2.291139   \n",
       "std      0.743651    0.896659    0.998862    1.113278    0.890741    1.287897   \n",
       "min      0.000000    1.000000    1.000000    1.000000    1.000000    1.000000   \n",
       "25%      0.000000    4.000000    3.000000    2.000000    1.000000    1.000000   \n",
       "50%      0.000000    4.000000    3.000000    3.000000    1.000000    2.000000   \n",
       "75%      0.000000    5.000000    4.000000    4.000000    2.000000    3.000000   \n",
       "max      3.000000    5.000000    5.000000    5.000000    5.000000    5.000000   \n",
       "\n",
       "           health    absences  Final_Grade  \n",
       "count  395.000000  395.000000   395.000000  \n",
       "mean     3.554430    5.708861    10.415190  \n",
       "std      1.390303    8.003096     4.581443  \n",
       "min      1.000000    0.000000     0.000000  \n",
       "25%      3.000000    0.000000     8.000000  \n",
       "50%      4.000000    4.000000    11.000000  \n",
       "75%      5.000000    8.000000    14.000000  \n",
       "max      5.000000   75.000000    20.000000  "
      ]
     },
     "execution_count": 7,
     "metadata": {},
     "output_type": "execute_result"
    }
   ],
   "source": [
    "data.describe()"
   ]
  },
  {
   "cell_type": "code",
   "execution_count": 8,
   "id": "31132edf",
   "metadata": {},
   "outputs": [
    {
     "name": "stdout",
     "output_type": "stream",
     "text": [
      "Duplicates: 0\n",
      "Missing values: 0\n",
      "Single valued columns: Index([], dtype='object')\n"
     ]
    }
   ],
   "source": [
    "#checking number of duplicates\n",
    "print(\"Duplicates:\", data.duplicated().sum())\n",
    "\n",
    "#checking number of missing values\n",
    "print(\"Missing values:\", data.isna().sum().sum())\n",
    "\n",
    "#checking number of columns with a single value\n",
    "print(\"Single valued columns:\", data.columns[data.nunique()==1])"
   ]
  },
  {
   "cell_type": "code",
   "execution_count": 9,
   "id": "8dc5cabd",
   "metadata": {},
   "outputs": [
    {
     "data": {
      "text/plain": [
       "StudentID      0\n",
       "school2        0\n",
       "sex            0\n",
       "age            0\n",
       "address        0\n",
       "famsize        0\n",
       "Pstatus        0\n",
       "Medu           0\n",
       "Fedu           0\n",
       "Mjob           0\n",
       "Fjob           0\n",
       "reason         0\n",
       "guardian       0\n",
       "traveltime     0\n",
       "studytime      0\n",
       "failures       0\n",
       "schoolsup      0\n",
       "famsup         0\n",
       "paid           0\n",
       "activities     0\n",
       "nursery        0\n",
       "higher         0\n",
       "internet       0\n",
       "romantic       0\n",
       "famrel         0\n",
       "freetime       0\n",
       "goout          0\n",
       "Dalc           0\n",
       "Walc           0\n",
       "health         0\n",
       "absences       0\n",
       "Final_Grade    0\n",
       "dtype: int64"
      ]
     },
     "execution_count": 9,
     "metadata": {},
     "output_type": "execute_result"
    }
   ],
   "source": [
    "data.isna().sum()"
   ]
  },
  {
   "cell_type": "code",
   "execution_count": 10,
   "id": "700c9efe",
   "metadata": {},
   "outputs": [],
   "source": [
    "# Student ID is actually categorical values and they do not have numeric meaning \n",
    "\n",
    "data = data.drop(['StudentID'   ], axis = 1 )"
   ]
  },
  {
   "cell_type": "code",
   "execution_count": 11,
   "id": "23937ee6",
   "metadata": {},
   "outputs": [
    {
     "data": {
      "text/html": [
       "<div>\n",
       "<style scoped>\n",
       "    .dataframe tbody tr th:only-of-type {\n",
       "        vertical-align: middle;\n",
       "    }\n",
       "\n",
       "    .dataframe tbody tr th {\n",
       "        vertical-align: top;\n",
       "    }\n",
       "\n",
       "    .dataframe thead th {\n",
       "        text-align: right;\n",
       "    }\n",
       "</style>\n",
       "<table border=\"1\" class=\"dataframe\">\n",
       "  <thead>\n",
       "    <tr style=\"text-align: right;\">\n",
       "      <th></th>\n",
       "      <th>school2</th>\n",
       "      <th>sex</th>\n",
       "      <th>address</th>\n",
       "      <th>famsize</th>\n",
       "      <th>Pstatus</th>\n",
       "      <th>Mjob</th>\n",
       "      <th>Fjob</th>\n",
       "      <th>reason</th>\n",
       "      <th>guardian</th>\n",
       "      <th>schoolsup</th>\n",
       "      <th>famsup</th>\n",
       "      <th>paid</th>\n",
       "      <th>activities</th>\n",
       "      <th>nursery</th>\n",
       "      <th>higher</th>\n",
       "      <th>internet</th>\n",
       "      <th>romantic</th>\n",
       "    </tr>\n",
       "  </thead>\n",
       "  <tbody>\n",
       "    <tr>\n",
       "      <th>0</th>\n",
       "      <td>GP</td>\n",
       "      <td>F</td>\n",
       "      <td>U</td>\n",
       "      <td>GT3</td>\n",
       "      <td>A</td>\n",
       "      <td>at_home</td>\n",
       "      <td>teacher</td>\n",
       "      <td>course</td>\n",
       "      <td>mother</td>\n",
       "      <td>yes</td>\n",
       "      <td>no</td>\n",
       "      <td>no</td>\n",
       "      <td>no</td>\n",
       "      <td>yes</td>\n",
       "      <td>yes</td>\n",
       "      <td>no</td>\n",
       "      <td>no</td>\n",
       "    </tr>\n",
       "    <tr>\n",
       "      <th>1</th>\n",
       "      <td>GP</td>\n",
       "      <td>F</td>\n",
       "      <td>U</td>\n",
       "      <td>GT3</td>\n",
       "      <td>T</td>\n",
       "      <td>at_home</td>\n",
       "      <td>other</td>\n",
       "      <td>course</td>\n",
       "      <td>father</td>\n",
       "      <td>no</td>\n",
       "      <td>yes</td>\n",
       "      <td>no</td>\n",
       "      <td>no</td>\n",
       "      <td>no</td>\n",
       "      <td>yes</td>\n",
       "      <td>yes</td>\n",
       "      <td>no</td>\n",
       "    </tr>\n",
       "    <tr>\n",
       "      <th>2</th>\n",
       "      <td>GP</td>\n",
       "      <td>F</td>\n",
       "      <td>U</td>\n",
       "      <td>LE3</td>\n",
       "      <td>T</td>\n",
       "      <td>at_home</td>\n",
       "      <td>other</td>\n",
       "      <td>other</td>\n",
       "      <td>mother</td>\n",
       "      <td>yes</td>\n",
       "      <td>no</td>\n",
       "      <td>yes</td>\n",
       "      <td>no</td>\n",
       "      <td>yes</td>\n",
       "      <td>yes</td>\n",
       "      <td>yes</td>\n",
       "      <td>no</td>\n",
       "    </tr>\n",
       "    <tr>\n",
       "      <th>3</th>\n",
       "      <td>GP</td>\n",
       "      <td>F</td>\n",
       "      <td>U</td>\n",
       "      <td>GT3</td>\n",
       "      <td>T</td>\n",
       "      <td>health</td>\n",
       "      <td>services</td>\n",
       "      <td>home</td>\n",
       "      <td>mother</td>\n",
       "      <td>no</td>\n",
       "      <td>yes</td>\n",
       "      <td>yes</td>\n",
       "      <td>yes</td>\n",
       "      <td>yes</td>\n",
       "      <td>yes</td>\n",
       "      <td>yes</td>\n",
       "      <td>yes</td>\n",
       "    </tr>\n",
       "    <tr>\n",
       "      <th>4</th>\n",
       "      <td>GP</td>\n",
       "      <td>F</td>\n",
       "      <td>U</td>\n",
       "      <td>GT3</td>\n",
       "      <td>T</td>\n",
       "      <td>other</td>\n",
       "      <td>other</td>\n",
       "      <td>home</td>\n",
       "      <td>father</td>\n",
       "      <td>no</td>\n",
       "      <td>yes</td>\n",
       "      <td>yes</td>\n",
       "      <td>no</td>\n",
       "      <td>yes</td>\n",
       "      <td>yes</td>\n",
       "      <td>no</td>\n",
       "      <td>no</td>\n",
       "    </tr>\n",
       "  </tbody>\n",
       "</table>\n",
       "</div>"
      ],
      "text/plain": [
       "  school2 sex address famsize Pstatus     Mjob      Fjob  reason guardian  \\\n",
       "0      GP   F       U     GT3       A  at_home   teacher  course   mother   \n",
       "1      GP   F       U     GT3       T  at_home     other  course   father   \n",
       "2      GP   F       U     LE3       T  at_home     other   other   mother   \n",
       "3      GP   F       U     GT3       T   health  services    home   mother   \n",
       "4      GP   F       U     GT3       T    other     other    home   father   \n",
       "\n",
       "  schoolsup famsup paid activities nursery higher internet romantic  \n",
       "0       yes     no   no         no     yes    yes       no       no  \n",
       "1        no    yes   no         no      no    yes      yes       no  \n",
       "2       yes     no  yes         no     yes    yes      yes       no  \n",
       "3        no    yes  yes        yes     yes    yes      yes      yes  \n",
       "4        no    yes  yes         no     yes    yes       no       no  "
      ]
     },
     "execution_count": 11,
     "metadata": {},
     "output_type": "execute_result"
    }
   ],
   "source": [
    "# separate data into numeric and object parts\n",
    "data_numeric = data.select_dtypes(exclude=[\"object\"])\n",
    "data_categorical = data.select_dtypes(include=\"object\")\n",
    "data_categorical.head()"
   ]
  },
  {
   "cell_type": "code",
   "execution_count": 12,
   "id": "29b01342",
   "metadata": {},
   "outputs": [
    {
     "data": {
      "text/html": [
       "<div>\n",
       "<style scoped>\n",
       "    .dataframe tbody tr th:only-of-type {\n",
       "        vertical-align: middle;\n",
       "    }\n",
       "\n",
       "    .dataframe tbody tr th {\n",
       "        vertical-align: top;\n",
       "    }\n",
       "\n",
       "    .dataframe thead th {\n",
       "        text-align: right;\n",
       "    }\n",
       "</style>\n",
       "<table border=\"1\" class=\"dataframe\">\n",
       "  <thead>\n",
       "    <tr style=\"text-align: right;\">\n",
       "      <th></th>\n",
       "      <th>age</th>\n",
       "      <th>Medu</th>\n",
       "      <th>Fedu</th>\n",
       "      <th>traveltime</th>\n",
       "      <th>studytime</th>\n",
       "      <th>failures</th>\n",
       "      <th>famrel</th>\n",
       "      <th>freetime</th>\n",
       "      <th>goout</th>\n",
       "      <th>Dalc</th>\n",
       "      <th>Walc</th>\n",
       "      <th>health</th>\n",
       "      <th>absences</th>\n",
       "      <th>Final_Grade</th>\n",
       "    </tr>\n",
       "  </thead>\n",
       "  <tbody>\n",
       "    <tr>\n",
       "      <th>0</th>\n",
       "      <td>18</td>\n",
       "      <td>4</td>\n",
       "      <td>4</td>\n",
       "      <td>2</td>\n",
       "      <td>2</td>\n",
       "      <td>0</td>\n",
       "      <td>4</td>\n",
       "      <td>3</td>\n",
       "      <td>4</td>\n",
       "      <td>1</td>\n",
       "      <td>1</td>\n",
       "      <td>3</td>\n",
       "      <td>6</td>\n",
       "      <td>6</td>\n",
       "    </tr>\n",
       "    <tr>\n",
       "      <th>1</th>\n",
       "      <td>17</td>\n",
       "      <td>1</td>\n",
       "      <td>1</td>\n",
       "      <td>1</td>\n",
       "      <td>2</td>\n",
       "      <td>0</td>\n",
       "      <td>5</td>\n",
       "      <td>3</td>\n",
       "      <td>3</td>\n",
       "      <td>1</td>\n",
       "      <td>1</td>\n",
       "      <td>3</td>\n",
       "      <td>4</td>\n",
       "      <td>6</td>\n",
       "    </tr>\n",
       "    <tr>\n",
       "      <th>2</th>\n",
       "      <td>15</td>\n",
       "      <td>1</td>\n",
       "      <td>1</td>\n",
       "      <td>1</td>\n",
       "      <td>2</td>\n",
       "      <td>3</td>\n",
       "      <td>4</td>\n",
       "      <td>3</td>\n",
       "      <td>2</td>\n",
       "      <td>2</td>\n",
       "      <td>3</td>\n",
       "      <td>3</td>\n",
       "      <td>10</td>\n",
       "      <td>10</td>\n",
       "    </tr>\n",
       "    <tr>\n",
       "      <th>3</th>\n",
       "      <td>15</td>\n",
       "      <td>4</td>\n",
       "      <td>2</td>\n",
       "      <td>1</td>\n",
       "      <td>3</td>\n",
       "      <td>0</td>\n",
       "      <td>3</td>\n",
       "      <td>2</td>\n",
       "      <td>2</td>\n",
       "      <td>1</td>\n",
       "      <td>1</td>\n",
       "      <td>5</td>\n",
       "      <td>2</td>\n",
       "      <td>15</td>\n",
       "    </tr>\n",
       "    <tr>\n",
       "      <th>4</th>\n",
       "      <td>16</td>\n",
       "      <td>3</td>\n",
       "      <td>3</td>\n",
       "      <td>1</td>\n",
       "      <td>2</td>\n",
       "      <td>0</td>\n",
       "      <td>4</td>\n",
       "      <td>3</td>\n",
       "      <td>2</td>\n",
       "      <td>1</td>\n",
       "      <td>2</td>\n",
       "      <td>5</td>\n",
       "      <td>4</td>\n",
       "      <td>10</td>\n",
       "    </tr>\n",
       "  </tbody>\n",
       "</table>\n",
       "</div>"
      ],
      "text/plain": [
       "   age  Medu  Fedu  traveltime  studytime  failures  famrel  freetime  goout  \\\n",
       "0   18     4     4           2          2         0       4         3      4   \n",
       "1   17     1     1           1          2         0       5         3      3   \n",
       "2   15     1     1           1          2         3       4         3      2   \n",
       "3   15     4     2           1          3         0       3         2      2   \n",
       "4   16     3     3           1          2         0       4         3      2   \n",
       "\n",
       "   Dalc  Walc  health  absences  Final_Grade  \n",
       "0     1     1       3         6            6  \n",
       "1     1     1       3         4            6  \n",
       "2     2     3       3        10           10  \n",
       "3     1     1       5         2           15  \n",
       "4     1     2       5         4           10  "
      ]
     },
     "execution_count": 12,
     "metadata": {},
     "output_type": "execute_result"
    }
   ],
   "source": [
    "data_numeric.head()"
   ]
  },
  {
   "cell_type": "code",
   "execution_count": 13,
   "id": "ca3b664a",
   "metadata": {},
   "outputs": [
    {
     "data": {
      "text/plain": [
       "<AxesSubplot:>"
      ]
     },
     "execution_count": 13,
     "metadata": {},
     "output_type": "execute_result"
    },
    {
     "data": {
      "image/png": "[encoded data removed]",
      "text/plain": [
       "<Figure size 1152x720 with 2 Axes>"
      ]
     },
     "metadata": {
      "needs_background": "light"
     },
     "output_type": "display_data"
    }
   ],
   "source": [
    "plt.figure(figsize=(16,10))\n",
    "sns.heatmap(data_numeric.corr().abs().round(2),annot=True)\n",
    "# sns.heatmap(df_numeric_features.drop([\"length\"],axis=1).corr().abs()>=0.75)"
   ]
  },
  {
   "cell_type": "code",
   "execution_count": 84,
   "id": "acc0355c",
   "metadata": {},
   "outputs": [],
   "source": [
    "# There is no very high correlation(0.8) between 2 independant variables."
   ]
  },
  {
   "cell_type": "code",
   "execution_count": 15,
   "id": "1900d7d0",
   "metadata": {},
   "outputs": [
    {
     "name": "stderr",
     "output_type": "stream",
     "text": [
      "/opt/anaconda3/lib/python3.8/site-packages/seaborn/distributions.py:2557: FutureWarning: `distplot` is a deprecated function and will be removed in a future version. Please adapt your code to use either `displot` (a figure-level function with similar flexibility) or `histplot` (an axes-level function for histograms).\n",
      "  warnings.warn(msg, FutureWarning)\n"
     ]
    },
    {
     "data": {
      "image/png": "[encoded data removed]",
      "text/plain": [
       "<Figure size 720x504 with 1 Axes>"
      ]
     },
     "metadata": {
      "needs_background": "light"
     },
     "output_type": "display_data"
    }
   ],
   "source": [
    "plt.figure(figsize = (10,7))\n",
    "sns.distplot(data.Final_Grade)\n",
    "plt.title(\"Final Grade Distribution\",fontsize = 16) \n",
    "plt.show()"
   ]
  },
  {
   "cell_type": "code",
   "execution_count": 16,
   "id": "dcdb6542",
   "metadata": {},
   "outputs": [
    {
     "name": "stderr",
     "output_type": "stream",
     "text": [
      "/opt/anaconda3/lib/python3.8/site-packages/seaborn/_decorators.py:36: FutureWarning: Pass the following variable as a keyword arg: x. From version 0.12, the only valid positional argument will be `data`, and passing other arguments without an explicit keyword will result in an error or misinterpretation.\n",
      "  warnings.warn(\n"
     ]
    },
    {
     "data": {
      "image/png": "[encoded data removed]",
      "text/plain": [
       "<Figure size 720x720 with 1 Axes>"
      ]
     },
     "metadata": {
      "needs_background": "light"
     },
     "output_type": "display_data"
    }
   ],
   "source": [
    "plt.figure(figsize=(10,10))\n",
    "sns.countplot(data.Final_Grade)\n",
    "plt.title(\"Countplot of Final Grade\")\n",
    "plt.show()"
   ]
  },
  {
   "cell_type": "markdown",
   "id": "03748201",
   "metadata": {},
   "source": [
    "## Model Building"
   ]
  },
  {
   "cell_type": "code",
   "execution_count": 18,
   "id": "c647cb29",
   "metadata": {},
   "outputs": [
    {
     "data": {
      "text/html": [
       "<div>\n",
       "<style scoped>\n",
       "    .dataframe tbody tr th:only-of-type {\n",
       "        vertical-align: middle;\n",
       "    }\n",
       "\n",
       "    .dataframe tbody tr th {\n",
       "        vertical-align: top;\n",
       "    }\n",
       "\n",
       "    .dataframe thead th {\n",
       "        text-align: right;\n",
       "    }\n",
       "</style>\n",
       "<table border=\"1\" class=\"dataframe\">\n",
       "  <thead>\n",
       "    <tr style=\"text-align: right;\">\n",
       "      <th></th>\n",
       "      <th>school2_MS</th>\n",
       "      <th>sex_M</th>\n",
       "      <th>address_U</th>\n",
       "      <th>famsize_LE3</th>\n",
       "      <th>Pstatus_T</th>\n",
       "      <th>Mjob_health</th>\n",
       "      <th>Mjob_other</th>\n",
       "      <th>Mjob_services</th>\n",
       "      <th>Mjob_teacher</th>\n",
       "      <th>Fjob_health</th>\n",
       "      <th>...</th>\n",
       "      <th>guardian_mother</th>\n",
       "      <th>guardian_other</th>\n",
       "      <th>schoolsup_yes</th>\n",
       "      <th>famsup_yes</th>\n",
       "      <th>paid_yes</th>\n",
       "      <th>activities_yes</th>\n",
       "      <th>nursery_yes</th>\n",
       "      <th>higher_yes</th>\n",
       "      <th>internet_yes</th>\n",
       "      <th>romantic_yes</th>\n",
       "    </tr>\n",
       "  </thead>\n",
       "  <tbody>\n",
       "    <tr>\n",
       "      <th>0</th>\n",
       "      <td>0</td>\n",
       "      <td>0</td>\n",
       "      <td>1</td>\n",
       "      <td>0</td>\n",
       "      <td>0</td>\n",
       "      <td>0</td>\n",
       "      <td>0</td>\n",
       "      <td>0</td>\n",
       "      <td>0</td>\n",
       "      <td>0</td>\n",
       "      <td>...</td>\n",
       "      <td>1</td>\n",
       "      <td>0</td>\n",
       "      <td>1</td>\n",
       "      <td>0</td>\n",
       "      <td>0</td>\n",
       "      <td>0</td>\n",
       "      <td>1</td>\n",
       "      <td>1</td>\n",
       "      <td>0</td>\n",
       "      <td>0</td>\n",
       "    </tr>\n",
       "    <tr>\n",
       "      <th>1</th>\n",
       "      <td>0</td>\n",
       "      <td>0</td>\n",
       "      <td>1</td>\n",
       "      <td>0</td>\n",
       "      <td>1</td>\n",
       "      <td>0</td>\n",
       "      <td>0</td>\n",
       "      <td>0</td>\n",
       "      <td>0</td>\n",
       "      <td>0</td>\n",
       "      <td>...</td>\n",
       "      <td>0</td>\n",
       "      <td>0</td>\n",
       "      <td>0</td>\n",
       "      <td>1</td>\n",
       "      <td>0</td>\n",
       "      <td>0</td>\n",
       "      <td>0</td>\n",
       "      <td>1</td>\n",
       "      <td>1</td>\n",
       "      <td>0</td>\n",
       "    </tr>\n",
       "    <tr>\n",
       "      <th>2</th>\n",
       "      <td>0</td>\n",
       "      <td>0</td>\n",
       "      <td>1</td>\n",
       "      <td>1</td>\n",
       "      <td>1</td>\n",
       "      <td>0</td>\n",
       "      <td>0</td>\n",
       "      <td>0</td>\n",
       "      <td>0</td>\n",
       "      <td>0</td>\n",
       "      <td>...</td>\n",
       "      <td>1</td>\n",
       "      <td>0</td>\n",
       "      <td>1</td>\n",
       "      <td>0</td>\n",
       "      <td>1</td>\n",
       "      <td>0</td>\n",
       "      <td>1</td>\n",
       "      <td>1</td>\n",
       "      <td>1</td>\n",
       "      <td>0</td>\n",
       "    </tr>\n",
       "    <tr>\n",
       "      <th>3</th>\n",
       "      <td>0</td>\n",
       "      <td>0</td>\n",
       "      <td>1</td>\n",
       "      <td>0</td>\n",
       "      <td>1</td>\n",
       "      <td>1</td>\n",
       "      <td>0</td>\n",
       "      <td>0</td>\n",
       "      <td>0</td>\n",
       "      <td>0</td>\n",
       "      <td>...</td>\n",
       "      <td>1</td>\n",
       "      <td>0</td>\n",
       "      <td>0</td>\n",
       "      <td>1</td>\n",
       "      <td>1</td>\n",
       "      <td>1</td>\n",
       "      <td>1</td>\n",
       "      <td>1</td>\n",
       "      <td>1</td>\n",
       "      <td>1</td>\n",
       "    </tr>\n",
       "    <tr>\n",
       "      <th>4</th>\n",
       "      <td>0</td>\n",
       "      <td>0</td>\n",
       "      <td>1</td>\n",
       "      <td>0</td>\n",
       "      <td>1</td>\n",
       "      <td>0</td>\n",
       "      <td>1</td>\n",
       "      <td>0</td>\n",
       "      <td>0</td>\n",
       "      <td>0</td>\n",
       "      <td>...</td>\n",
       "      <td>0</td>\n",
       "      <td>0</td>\n",
       "      <td>0</td>\n",
       "      <td>1</td>\n",
       "      <td>1</td>\n",
       "      <td>0</td>\n",
       "      <td>1</td>\n",
       "      <td>1</td>\n",
       "      <td>0</td>\n",
       "      <td>0</td>\n",
       "    </tr>\n",
       "  </tbody>\n",
       "</table>\n",
       "<p>5 rows × 26 columns</p>\n",
       "</div>"
      ],
      "text/plain": [
       "   school2_MS  sex_M  address_U  famsize_LE3  Pstatus_T  Mjob_health  \\\n",
       "0           0      0          1            0          0            0   \n",
       "1           0      0          1            0          1            0   \n",
       "2           0      0          1            1          1            0   \n",
       "3           0      0          1            0          1            1   \n",
       "4           0      0          1            0          1            0   \n",
       "\n",
       "   Mjob_other  Mjob_services  Mjob_teacher  Fjob_health  ...  guardian_mother  \\\n",
       "0           0              0             0            0  ...                1   \n",
       "1           0              0             0            0  ...                0   \n",
       "2           0              0             0            0  ...                1   \n",
       "3           0              0             0            0  ...                1   \n",
       "4           1              0             0            0  ...                0   \n",
       "\n",
       "   guardian_other  schoolsup_yes  famsup_yes  paid_yes  activities_yes  \\\n",
       "0               0              1           0         0               0   \n",
       "1               0              0           1         0               0   \n",
       "2               0              1           0         1               0   \n",
       "3               0              0           1         1               1   \n",
       "4               0              0           1         1               0   \n",
       "\n",
       "   nursery_yes  higher_yes  internet_yes  romantic_yes  \n",
       "0            1           1             0             0  \n",
       "1            0           1             1             0  \n",
       "2            1           1             1             0  \n",
       "3            1           1             1             1  \n",
       "4            1           1             0             0  \n",
       "\n",
       "[5 rows x 26 columns]"
      ]
     },
     "execution_count": 18,
     "metadata": {},
     "output_type": "execute_result"
    }
   ],
   "source": [
    "# dummy \n",
    "\n",
    "data_dummies = pd.get_dummies(data_categorical, drop_first = True)\n",
    "data_dummies.head()"
   ]
  },
  {
   "cell_type": "code",
   "execution_count": 19,
   "id": "6ec4628c",
   "metadata": {},
   "outputs": [],
   "source": [
    "data_model = data_numeric.join(data_dummies, how = 'left')"
   ]
  },
  {
   "cell_type": "code",
   "execution_count": 20,
   "id": "f6c5270a",
   "metadata": {},
   "outputs": [
    {
     "data": {
      "text/html": [
       "<div>\n",
       "<style scoped>\n",
       "    .dataframe tbody tr th:only-of-type {\n",
       "        vertical-align: middle;\n",
       "    }\n",
       "\n",
       "    .dataframe tbody tr th {\n",
       "        vertical-align: top;\n",
       "    }\n",
       "\n",
       "    .dataframe thead th {\n",
       "        text-align: right;\n",
       "    }\n",
       "</style>\n",
       "<table border=\"1\" class=\"dataframe\">\n",
       "  <thead>\n",
       "    <tr style=\"text-align: right;\">\n",
       "      <th></th>\n",
       "      <th>age</th>\n",
       "      <th>Medu</th>\n",
       "      <th>Fedu</th>\n",
       "      <th>traveltime</th>\n",
       "      <th>studytime</th>\n",
       "      <th>failures</th>\n",
       "      <th>famrel</th>\n",
       "      <th>freetime</th>\n",
       "      <th>goout</th>\n",
       "      <th>Dalc</th>\n",
       "      <th>...</th>\n",
       "      <th>guardian_mother</th>\n",
       "      <th>guardian_other</th>\n",
       "      <th>schoolsup_yes</th>\n",
       "      <th>famsup_yes</th>\n",
       "      <th>paid_yes</th>\n",
       "      <th>activities_yes</th>\n",
       "      <th>nursery_yes</th>\n",
       "      <th>higher_yes</th>\n",
       "      <th>internet_yes</th>\n",
       "      <th>romantic_yes</th>\n",
       "    </tr>\n",
       "  </thead>\n",
       "  <tbody>\n",
       "    <tr>\n",
       "      <th>0</th>\n",
       "      <td>18</td>\n",
       "      <td>4</td>\n",
       "      <td>4</td>\n",
       "      <td>2</td>\n",
       "      <td>2</td>\n",
       "      <td>0</td>\n",
       "      <td>4</td>\n",
       "      <td>3</td>\n",
       "      <td>4</td>\n",
       "      <td>1</td>\n",
       "      <td>...</td>\n",
       "      <td>1</td>\n",
       "      <td>0</td>\n",
       "      <td>1</td>\n",
       "      <td>0</td>\n",
       "      <td>0</td>\n",
       "      <td>0</td>\n",
       "      <td>1</td>\n",
       "      <td>1</td>\n",
       "      <td>0</td>\n",
       "      <td>0</td>\n",
       "    </tr>\n",
       "    <tr>\n",
       "      <th>1</th>\n",
       "      <td>17</td>\n",
       "      <td>1</td>\n",
       "      <td>1</td>\n",
       "      <td>1</td>\n",
       "      <td>2</td>\n",
       "      <td>0</td>\n",
       "      <td>5</td>\n",
       "      <td>3</td>\n",
       "      <td>3</td>\n",
       "      <td>1</td>\n",
       "      <td>...</td>\n",
       "      <td>0</td>\n",
       "      <td>0</td>\n",
       "      <td>0</td>\n",
       "      <td>1</td>\n",
       "      <td>0</td>\n",
       "      <td>0</td>\n",
       "      <td>0</td>\n",
       "      <td>1</td>\n",
       "      <td>1</td>\n",
       "      <td>0</td>\n",
       "    </tr>\n",
       "    <tr>\n",
       "      <th>2</th>\n",
       "      <td>15</td>\n",
       "      <td>1</td>\n",
       "      <td>1</td>\n",
       "      <td>1</td>\n",
       "      <td>2</td>\n",
       "      <td>3</td>\n",
       "      <td>4</td>\n",
       "      <td>3</td>\n",
       "      <td>2</td>\n",
       "      <td>2</td>\n",
       "      <td>...</td>\n",
       "      <td>1</td>\n",
       "      <td>0</td>\n",
       "      <td>1</td>\n",
       "      <td>0</td>\n",
       "      <td>1</td>\n",
       "      <td>0</td>\n",
       "      <td>1</td>\n",
       "      <td>1</td>\n",
       "      <td>1</td>\n",
       "      <td>0</td>\n",
       "    </tr>\n",
       "    <tr>\n",
       "      <th>3</th>\n",
       "      <td>15</td>\n",
       "      <td>4</td>\n",
       "      <td>2</td>\n",
       "      <td>1</td>\n",
       "      <td>3</td>\n",
       "      <td>0</td>\n",
       "      <td>3</td>\n",
       "      <td>2</td>\n",
       "      <td>2</td>\n",
       "      <td>1</td>\n",
       "      <td>...</td>\n",
       "      <td>1</td>\n",
       "      <td>0</td>\n",
       "      <td>0</td>\n",
       "      <td>1</td>\n",
       "      <td>1</td>\n",
       "      <td>1</td>\n",
       "      <td>1</td>\n",
       "      <td>1</td>\n",
       "      <td>1</td>\n",
       "      <td>1</td>\n",
       "    </tr>\n",
       "    <tr>\n",
       "      <th>4</th>\n",
       "      <td>16</td>\n",
       "      <td>3</td>\n",
       "      <td>3</td>\n",
       "      <td>1</td>\n",
       "      <td>2</td>\n",
       "      <td>0</td>\n",
       "      <td>4</td>\n",
       "      <td>3</td>\n",
       "      <td>2</td>\n",
       "      <td>1</td>\n",
       "      <td>...</td>\n",
       "      <td>0</td>\n",
       "      <td>0</td>\n",
       "      <td>0</td>\n",
       "      <td>1</td>\n",
       "      <td>1</td>\n",
       "      <td>0</td>\n",
       "      <td>1</td>\n",
       "      <td>1</td>\n",
       "      <td>0</td>\n",
       "      <td>0</td>\n",
       "    </tr>\n",
       "  </tbody>\n",
       "</table>\n",
       "<p>5 rows × 40 columns</p>\n",
       "</div>"
      ],
      "text/plain": [
       "   age  Medu  Fedu  traveltime  studytime  failures  famrel  freetime  goout  \\\n",
       "0   18     4     4           2          2         0       4         3      4   \n",
       "1   17     1     1           1          2         0       5         3      3   \n",
       "2   15     1     1           1          2         3       4         3      2   \n",
       "3   15     4     2           1          3         0       3         2      2   \n",
       "4   16     3     3           1          2         0       4         3      2   \n",
       "\n",
       "   Dalc  ...  guardian_mother  guardian_other  schoolsup_yes  famsup_yes  \\\n",
       "0     1  ...                1               0              1           0   \n",
       "1     1  ...                0               0              0           1   \n",
       "2     2  ...                1               0              1           0   \n",
       "3     1  ...                1               0              0           1   \n",
       "4     1  ...                0               0              0           1   \n",
       "\n",
       "   paid_yes  activities_yes  nursery_yes  higher_yes  internet_yes  \\\n",
       "0         0               0            1           1             0   \n",
       "1         0               0            0           1             1   \n",
       "2         1               0            1           1             1   \n",
       "3         1               1            1           1             1   \n",
       "4         1               0            1           1             0   \n",
       "\n",
       "   romantic_yes  \n",
       "0             0  \n",
       "1             0  \n",
       "2             0  \n",
       "3             1  \n",
       "4             0  \n",
       "\n",
       "[5 rows x 40 columns]"
      ]
     },
     "execution_count": 20,
     "metadata": {},
     "output_type": "execute_result"
    }
   ],
   "source": [
    "data_model.head()"
   ]
  },
  {
   "cell_type": "code",
   "execution_count": 21,
   "id": "d2c045d9",
   "metadata": {},
   "outputs": [
    {
     "data": {
      "text/plain": [
       "(395, 40, 395, 1)"
      ]
     },
     "execution_count": 21,
     "metadata": {},
     "output_type": "execute_result"
    }
   ],
   "source": [
    "Y = data_model.Final_Grade\n",
    "X = data_model.drop('Final_Grade', axis = 1)\n",
    "X = sm.add_constant(X)\n",
    "X.shape + Y.values.reshape((-1,1)).shape"
   ]
  },
  {
   "cell_type": "code",
   "execution_count": 22,
   "id": "56474116",
   "metadata": {},
   "outputs": [
    {
     "data": {
      "text/plain": [
       "(296, 40)"
      ]
     },
     "execution_count": 22,
     "metadata": {},
     "output_type": "execute_result"
    }
   ],
   "source": [
    "# train-test split data\n",
    "train_x, test_x, train_y, test_y = train_test_split(X, Y, test_size=0.25, random_state=42)\n",
    "train_x.shape"
   ]
  },
  {
   "cell_type": "code",
   "execution_count": 23,
   "id": "6e7ddd12",
   "metadata": {},
   "outputs": [
    {
     "data": {
      "text/html": [
       "<table class=\"simpletable\">\n",
       "<caption>OLS Regression Results</caption>\n",
       "<tr>\n",
       "  <th>Dep. Variable:</th>       <td>Final_Grade</td>   <th>  R-squared:         </th> <td>   0.276</td>\n",
       "</tr>\n",
       "<tr>\n",
       "  <th>Model:</th>                   <td>OLS</td>       <th>  Adj. R-squared:    </th> <td>   0.166</td>\n",
       "</tr>\n",
       "<tr>\n",
       "  <th>Method:</th>             <td>Least Squares</td>  <th>  F-statistic:       </th> <td>   2.507</td>\n",
       "</tr>\n",
       "<tr>\n",
       "  <th>Date:</th>             <td>Thu, 07 Oct 2021</td> <th>  Prob (F-statistic):</th> <td>1.02e-05</td>\n",
       "</tr>\n",
       "<tr>\n",
       "  <th>Time:</th>                 <td>19:38:28</td>     <th>  Log-Likelihood:    </th> <td> -817.20</td>\n",
       "</tr>\n",
       "<tr>\n",
       "  <th>No. Observations:</th>      <td>   296</td>      <th>  AIC:               </th> <td>   1714.</td>\n",
       "</tr>\n",
       "<tr>\n",
       "  <th>Df Residuals:</th>          <td>   256</td>      <th>  BIC:               </th> <td>   1862.</td>\n",
       "</tr>\n",
       "<tr>\n",
       "  <th>Df Model:</th>              <td>    39</td>      <th>                     </th>     <td> </td>   \n",
       "</tr>\n",
       "<tr>\n",
       "  <th>Covariance Type:</th>      <td>nonrobust</td>    <th>                     </th>     <td> </td>   \n",
       "</tr>\n",
       "</table>\n",
       "<table class=\"simpletable\">\n",
       "<tr>\n",
       "          <td></td>             <th>coef</th>     <th>std err</th>      <th>t</th>      <th>P>|t|</th>  <th>[0.025</th>    <th>0.975]</th>  \n",
       "</tr>\n",
       "<tr>\n",
       "  <th>const</th>             <td>   13.6675</td> <td>    5.186</td> <td>    2.636</td> <td> 0.009</td> <td>    3.455</td> <td>   23.880</td>\n",
       "</tr>\n",
       "<tr>\n",
       "  <th>age</th>               <td>   -0.3840</td> <td>    0.248</td> <td>   -1.547</td> <td> 0.123</td> <td>   -0.873</td> <td>    0.105</td>\n",
       "</tr>\n",
       "<tr>\n",
       "  <th>Medu</th>              <td>    0.4395</td> <td>    0.382</td> <td>    1.151</td> <td> 0.251</td> <td>   -0.313</td> <td>    1.192</td>\n",
       "</tr>\n",
       "<tr>\n",
       "  <th>Fedu</th>              <td>   -0.3869</td> <td>    0.330</td> <td>   -1.173</td> <td> 0.242</td> <td>   -1.036</td> <td>    0.262</td>\n",
       "</tr>\n",
       "<tr>\n",
       "  <th>traveltime</th>        <td>   -0.1246</td> <td>    0.402</td> <td>   -0.310</td> <td> 0.757</td> <td>   -0.916</td> <td>    0.667</td>\n",
       "</tr>\n",
       "<tr>\n",
       "  <th>studytime</th>         <td>    0.5529</td> <td>    0.349</td> <td>    1.586</td> <td> 0.114</td> <td>   -0.134</td> <td>    1.239</td>\n",
       "</tr>\n",
       "<tr>\n",
       "  <th>failures</th>          <td>   -1.7348</td> <td>    0.388</td> <td>   -4.469</td> <td> 0.000</td> <td>   -2.499</td> <td>   -0.970</td>\n",
       "</tr>\n",
       "<tr>\n",
       "  <th>famrel</th>            <td>    0.3468</td> <td>    0.302</td> <td>    1.148</td> <td> 0.252</td> <td>   -0.248</td> <td>    0.942</td>\n",
       "</tr>\n",
       "<tr>\n",
       "  <th>freetime</th>          <td>    0.1629</td> <td>    0.270</td> <td>    0.602</td> <td> 0.547</td> <td>   -0.370</td> <td>    0.696</td>\n",
       "</tr>\n",
       "<tr>\n",
       "  <th>goout</th>             <td>   -0.5638</td> <td>    0.275</td> <td>   -2.049</td> <td> 0.041</td> <td>   -1.106</td> <td>   -0.022</td>\n",
       "</tr>\n",
       "<tr>\n",
       "  <th>Dalc</th>              <td>   -0.2700</td> <td>    0.381</td> <td>   -0.709</td> <td> 0.479</td> <td>   -1.020</td> <td>    0.480</td>\n",
       "</tr>\n",
       "<tr>\n",
       "  <th>Walc</th>              <td>    0.2198</td> <td>    0.293</td> <td>    0.749</td> <td> 0.454</td> <td>   -0.358</td> <td>    0.797</td>\n",
       "</tr>\n",
       "<tr>\n",
       "  <th>health</th>            <td>   -0.1202</td> <td>    0.186</td> <td>   -0.648</td> <td> 0.518</td> <td>   -0.486</td> <td>    0.245</td>\n",
       "</tr>\n",
       "<tr>\n",
       "  <th>absences</th>          <td>    0.0588</td> <td>    0.032</td> <td>    1.842</td> <td> 0.067</td> <td>   -0.004</td> <td>    0.122</td>\n",
       "</tr>\n",
       "<tr>\n",
       "  <th>school2_MS</th>        <td>    0.9703</td> <td>    0.935</td> <td>    1.038</td> <td> 0.300</td> <td>   -0.871</td> <td>    2.811</td>\n",
       "</tr>\n",
       "<tr>\n",
       "  <th>sex_M</th>             <td>    1.4015</td> <td>    0.599</td> <td>    2.341</td> <td> 0.020</td> <td>    0.223</td> <td>    2.580</td>\n",
       "</tr>\n",
       "<tr>\n",
       "  <th>address_U</th>         <td>    0.5103</td> <td>    0.673</td> <td>    0.758</td> <td> 0.449</td> <td>   -0.815</td> <td>    1.836</td>\n",
       "</tr>\n",
       "<tr>\n",
       "  <th>famsize_LE3</th>       <td>    0.4941</td> <td>    0.571</td> <td>    0.865</td> <td> 0.388</td> <td>   -0.630</td> <td>    1.619</td>\n",
       "</tr>\n",
       "<tr>\n",
       "  <th>Pstatus_T</th>         <td>   -0.5986</td> <td>    0.872</td> <td>   -0.687</td> <td> 0.493</td> <td>   -2.315</td> <td>    1.118</td>\n",
       "</tr>\n",
       "<tr>\n",
       "  <th>Mjob_health</th>       <td>    1.4533</td> <td>    1.287</td> <td>    1.129</td> <td> 0.260</td> <td>   -1.081</td> <td>    3.988</td>\n",
       "</tr>\n",
       "<tr>\n",
       "  <th>Mjob_other</th>        <td>    0.1598</td> <td>    0.814</td> <td>    0.196</td> <td> 0.844</td> <td>   -1.442</td> <td>    1.762</td>\n",
       "</tr>\n",
       "<tr>\n",
       "  <th>Mjob_services</th>     <td>    0.7999</td> <td>    0.892</td> <td>    0.897</td> <td> 0.371</td> <td>   -0.957</td> <td>    2.557</td>\n",
       "</tr>\n",
       "<tr>\n",
       "  <th>Mjob_teacher</th>      <td>   -0.6072</td> <td>    1.208</td> <td>   -0.503</td> <td> 0.616</td> <td>   -2.986</td> <td>    1.771</td>\n",
       "</tr>\n",
       "<tr>\n",
       "  <th>Fjob_health</th>       <td>    0.1619</td> <td>    1.586</td> <td>    0.102</td> <td> 0.919</td> <td>   -2.960</td> <td>    3.284</td>\n",
       "</tr>\n",
       "<tr>\n",
       "  <th>Fjob_other</th>        <td>   -0.8159</td> <td>    1.102</td> <td>   -0.740</td> <td> 0.460</td> <td>   -2.987</td> <td>    1.355</td>\n",
       "</tr>\n",
       "<tr>\n",
       "  <th>Fjob_services</th>     <td>   -0.3438</td> <td>    1.172</td> <td>   -0.293</td> <td> 0.770</td> <td>   -2.652</td> <td>    1.965</td>\n",
       "</tr>\n",
       "<tr>\n",
       "  <th>Fjob_teacher</th>      <td>    0.9266</td> <td>    1.472</td> <td>    0.630</td> <td> 0.529</td> <td>   -1.972</td> <td>    3.825</td>\n",
       "</tr>\n",
       "<tr>\n",
       "  <th>reason_home</th>       <td>   -0.4286</td> <td>    0.664</td> <td>   -0.645</td> <td> 0.519</td> <td>   -1.737</td> <td>    0.879</td>\n",
       "</tr>\n",
       "<tr>\n",
       "  <th>reason_other</th>      <td>    0.5870</td> <td>    0.916</td> <td>    0.641</td> <td> 0.522</td> <td>   -1.217</td> <td>    2.391</td>\n",
       "</tr>\n",
       "<tr>\n",
       "  <th>reason_reputation</th> <td>    0.6131</td> <td>    0.681</td> <td>    0.900</td> <td> 0.369</td> <td>   -0.728</td> <td>    1.955</td>\n",
       "</tr>\n",
       "<tr>\n",
       "  <th>guardian_mother</th>   <td>    0.5829</td> <td>    0.650</td> <td>    0.897</td> <td> 0.371</td> <td>   -0.697</td> <td>    1.863</td>\n",
       "</tr>\n",
       "<tr>\n",
       "  <th>guardian_other</th>    <td>    1.2085</td> <td>    1.125</td> <td>    1.074</td> <td> 0.284</td> <td>   -1.007</td> <td>    3.424</td>\n",
       "</tr>\n",
       "<tr>\n",
       "  <th>schoolsup_yes</th>     <td>   -0.9273</td> <td>    0.749</td> <td>   -1.239</td> <td> 0.217</td> <td>   -2.402</td> <td>    0.547</td>\n",
       "</tr>\n",
       "<tr>\n",
       "  <th>famsup_yes</th>        <td>   -1.0336</td> <td>    0.567</td> <td>   -1.824</td> <td> 0.069</td> <td>   -2.150</td> <td>    0.082</td>\n",
       "</tr>\n",
       "<tr>\n",
       "  <th>paid_yes</th>          <td>    0.8499</td> <td>    0.561</td> <td>    1.514</td> <td> 0.131</td> <td>   -0.255</td> <td>    1.955</td>\n",
       "</tr>\n",
       "<tr>\n",
       "  <th>activities_yes</th>    <td>   -0.4941</td> <td>    0.538</td> <td>   -0.918</td> <td> 0.360</td> <td>   -1.554</td> <td>    0.566</td>\n",
       "</tr>\n",
       "<tr>\n",
       "  <th>nursery_yes</th>       <td>   -0.4833</td> <td>    0.655</td> <td>   -0.738</td> <td> 0.461</td> <td>   -1.773</td> <td>    0.807</td>\n",
       "</tr>\n",
       "<tr>\n",
       "  <th>higher_yes</th>        <td>    2.1422</td> <td>    1.188</td> <td>    1.803</td> <td> 0.073</td> <td>   -0.198</td> <td>    4.483</td>\n",
       "</tr>\n",
       "<tr>\n",
       "  <th>internet_yes</th>      <td>    0.6031</td> <td>    0.720</td> <td>    0.837</td> <td> 0.403</td> <td>   -0.815</td> <td>    2.022</td>\n",
       "</tr>\n",
       "<tr>\n",
       "  <th>romantic_yes</th>      <td>   -0.9464</td> <td>    0.546</td> <td>   -1.734</td> <td> 0.084</td> <td>   -2.021</td> <td>    0.128</td>\n",
       "</tr>\n",
       "</table>\n",
       "<table class=\"simpletable\">\n",
       "<tr>\n",
       "  <th>Omnibus:</th>       <td>22.726</td> <th>  Durbin-Watson:     </th> <td>   1.926</td>\n",
       "</tr>\n",
       "<tr>\n",
       "  <th>Prob(Omnibus):</th> <td> 0.000</td> <th>  Jarque-Bera (JB):  </th> <td>  25.803</td>\n",
       "</tr>\n",
       "<tr>\n",
       "  <th>Skew:</th>          <td>-0.668</td> <th>  Prob(JB):          </th> <td>2.49e-06</td>\n",
       "</tr>\n",
       "<tr>\n",
       "  <th>Kurtosis:</th>      <td> 3.553</td> <th>  Cond. No.          </th> <td>    445.</td>\n",
       "</tr>\n",
       "</table><br/><br/>Notes:<br/>[1] Standard Errors assume that the covariance matrix of the errors is correctly specified."
      ],
      "text/plain": [
       "<class 'statsmodels.iolib.summary.Summary'>\n",
       "\"\"\"\n",
       "                            OLS Regression Results                            \n",
       "==============================================================================\n",
       "Dep. Variable:            Final_Grade   R-squared:                       0.276\n",
       "Model:                            OLS   Adj. R-squared:                  0.166\n",
       "Method:                 Least Squares   F-statistic:                     2.507\n",
       "Date:                Thu, 07 Oct 2021   Prob (F-statistic):           1.02e-05\n",
       "Time:                        19:38:28   Log-Likelihood:                -817.20\n",
       "No. Observations:                 296   AIC:                             1714.\n",
       "Df Residuals:                     256   BIC:                             1862.\n",
       "Df Model:                          39                                         \n",
       "Covariance Type:            nonrobust                                         \n",
       "=====================================================================================\n",
       "                        coef    std err          t      P>|t|      [0.025      0.975]\n",
       "-------------------------------------------------------------------------------------\n",
       "const                13.6675      5.186      2.636      0.009       3.455      23.880\n",
       "age                  -0.3840      0.248     -1.547      0.123      -0.873       0.105\n",
       "Medu                  0.4395      0.382      1.151      0.251      -0.313       1.192\n",
       "Fedu                 -0.3869      0.330     -1.173      0.242      -1.036       0.262\n",
       "traveltime           -0.1246      0.402     -0.310      0.757      -0.916       0.667\n",
       "studytime             0.5529      0.349      1.586      0.114      -0.134       1.239\n",
       "failures             -1.7348      0.388     -4.469      0.000      -2.499      -0.970\n",
       "famrel                0.3468      0.302      1.148      0.252      -0.248       0.942\n",
       "freetime              0.1629      0.270      0.602      0.547      -0.370       0.696\n",
       "goout                -0.5638      0.275     -2.049      0.041      -1.106      -0.022\n",
       "Dalc                 -0.2700      0.381     -0.709      0.479      -1.020       0.480\n",
       "Walc                  0.2198      0.293      0.749      0.454      -0.358       0.797\n",
       "health               -0.1202      0.186     -0.648      0.518      -0.486       0.245\n",
       "absences              0.0588      0.032      1.842      0.067      -0.004       0.122\n",
       "school2_MS            0.9703      0.935      1.038      0.300      -0.871       2.811\n",
       "sex_M                 1.4015      0.599      2.341      0.020       0.223       2.580\n",
       "address_U             0.5103      0.673      0.758      0.449      -0.815       1.836\n",
       "famsize_LE3           0.4941      0.571      0.865      0.388      -0.630       1.619\n",
       "Pstatus_T            -0.5986      0.872     -0.687      0.493      -2.315       1.118\n",
       "Mjob_health           1.4533      1.287      1.129      0.260      -1.081       3.988\n",
       "Mjob_other            0.1598      0.814      0.196      0.844      -1.442       1.762\n",
       "Mjob_services         0.7999      0.892      0.897      0.371      -0.957       2.557\n",
       "Mjob_teacher         -0.6072      1.208     -0.503      0.616      -2.986       1.771\n",
       "Fjob_health           0.1619      1.586      0.102      0.919      -2.960       3.284\n",
       "Fjob_other           -0.8159      1.102     -0.740      0.460      -2.987       1.355\n",
       "Fjob_services        -0.3438      1.172     -0.293      0.770      -2.652       1.965\n",
       "Fjob_teacher          0.9266      1.472      0.630      0.529      -1.972       3.825\n",
       "reason_home          -0.4286      0.664     -0.645      0.519      -1.737       0.879\n",
       "reason_other          0.5870      0.916      0.641      0.522      -1.217       2.391\n",
       "reason_reputation     0.6131      0.681      0.900      0.369      -0.728       1.955\n",
       "guardian_mother       0.5829      0.650      0.897      0.371      -0.697       1.863\n",
       "guardian_other        1.2085      1.125      1.074      0.284      -1.007       3.424\n",
       "schoolsup_yes        -0.9273      0.749     -1.239      0.217      -2.402       0.547\n",
       "famsup_yes           -1.0336      0.567     -1.824      0.069      -2.150       0.082\n",
       "paid_yes              0.8499      0.561      1.514      0.131      -0.255       1.955\n",
       "activities_yes       -0.4941      0.538     -0.918      0.360      -1.554       0.566\n",
       "nursery_yes          -0.4833      0.655     -0.738      0.461      -1.773       0.807\n",
       "higher_yes            2.1422      1.188      1.803      0.073      -0.198       4.483\n",
       "internet_yes          0.6031      0.720      0.837      0.403      -0.815       2.022\n",
       "romantic_yes         -0.9464      0.546     -1.734      0.084      -2.021       0.128\n",
       "==============================================================================\n",
       "Omnibus:                       22.726   Durbin-Watson:                   1.926\n",
       "Prob(Omnibus):                  0.000   Jarque-Bera (JB):               25.803\n",
       "Skew:                          -0.668   Prob(JB):                     2.49e-06\n",
       "Kurtosis:                       3.553   Cond. No.                         445.\n",
       "==============================================================================\n",
       "\n",
       "Notes:\n",
       "[1] Standard Errors assume that the covariance matrix of the errors is correctly specified.\n",
       "\"\"\""
      ]
     },
     "execution_count": 23,
     "metadata": {},
     "output_type": "execute_result"
    }
   ],
   "source": [
    "# linear model\n",
    "model_linear = sm.OLS(train_y, train_x)\n",
    "results = model_linear.fit()\n",
    "results.summary()"
   ]
  },
  {
   "cell_type": "code",
   "execution_count": 24,
   "id": "24676fc9",
   "metadata": {},
   "outputs": [],
   "source": [
    "#predicting for train and test data\n",
    "Y1_linear = results.predict(sm.add_constant(X))\n",
    "Y0_linear = results.predict(X)"
   ]
  },
  {
   "cell_type": "code",
   "execution_count": 25,
   "id": "5cae518e",
   "metadata": {},
   "outputs": [
    {
     "name": "stdout",
     "output_type": "stream",
     "text": [
      "R-squared Train: 0.256183043975479\n",
      "R-squared Test: 0.256183043975479\n"
     ]
    }
   ],
   "source": [
    "#let's see r-squared for train and test sets for the initial model\n",
    "print(\"R-squared Train:\",r2_score(Y,Y0_linear))\n",
    "print(\"R-squared Test:\",r2_score(Y,Y1_linear))"
   ]
  },
  {
   "cell_type": "markdown",
   "id": "dcf20729",
   "metadata": {},
   "source": [
    "## Feature Engineering"
   ]
  },
  {
   "cell_type": "code",
   "execution_count": 26,
   "id": "c99c8ce2",
   "metadata": {},
   "outputs": [
    {
     "data": {
      "text/plain": [
       "const       0.008912\n",
       "failures    0.000012\n",
       "goout       0.041466\n",
       "sex_M       0.020001\n",
       "dtype: float64"
      ]
     },
     "execution_count": 26,
     "metadata": {},
     "output_type": "execute_result"
    }
   ],
   "source": [
    "# significant variables\n",
    "results.pvalues[results.pvalues<0.05]"
   ]
  },
  {
   "cell_type": "code",
   "execution_count": 27,
   "id": "d320f688",
   "metadata": {},
   "outputs": [
    {
     "data": {
      "text/plain": [
       "age                  0.123004\n",
       "Medu                 0.251000\n",
       "Fedu                 0.241772\n",
       "traveltime           0.756747\n",
       "studytime            0.113928\n",
       "famrel               0.252163\n",
       "freetime             0.547423\n",
       "Dalc                 0.479000\n",
       "Walc                 0.454254\n",
       "health               0.517646\n",
       "absences             0.066650\n",
       "school2_MS           0.300240\n",
       "address_U            0.449126\n",
       "famsize_LE3          0.387659\n",
       "Pstatus_T            0.492966\n",
       "Mjob_health          0.259887\n",
       "Mjob_other           0.844474\n",
       "Mjob_services        0.370765\n",
       "Mjob_teacher         0.615560\n",
       "Fjob_health          0.918743\n",
       "Fjob_other           0.459843\n",
       "Fjob_services        0.769542\n",
       "Fjob_teacher         0.529492\n",
       "reason_home          0.519311\n",
       "reason_other         0.522328\n",
       "reason_reputation    0.368999\n",
       "guardian_mother      0.370682\n",
       "guardian_other       0.283840\n",
       "schoolsup_yes        0.216622\n",
       "famsup_yes           0.069359\n",
       "paid_yes             0.131194\n",
       "activities_yes       0.359716\n",
       "nursery_yes          0.461376\n",
       "higher_yes           0.072639\n",
       "internet_yes         0.403226\n",
       "romantic_yes         0.084034\n",
       "dtype: float64"
      ]
     },
     "execution_count": 27,
     "metadata": {},
     "output_type": "execute_result"
    }
   ],
   "source": [
    "results.pvalues[results.pvalues>0.05]"
   ]
  },
  {
   "cell_type": "code",
   "execution_count": 87,
   "id": "cc1d1708",
   "metadata": {},
   "outputs": [],
   "source": [
    "# eliminate some unsignificant features according to p-value\n",
    "p_values = results.pvalues.round(3).reset_index().rename(\n",
    "    columns={\n",
    "        'index':'features',\n",
    "        0: 'p_value'\n",
    "    }\n",
    ").sort_values(\"p_value\")"
   ]
  },
  {
   "cell_type": "code",
   "execution_count": 29,
   "id": "467da973",
   "metadata": {},
   "outputs": [
    {
     "name": "stdout",
     "output_type": "stream",
     "text": [
      "['health', 'reason_home', 'reason_other', 'Fjob_teacher', 'freetime', 'Mjob_teacher', 'traveltime', 'Fjob_services', 'Mjob_other', 'Fjob_health']\n"
     ]
    }
   ],
   "source": [
    "bad_features_data = p_values[p_values.p_value > 0.5]\n",
    "bad_features = bad_features_data.features.tolist()\n",
    "print(bad_features)"
   ]
  },
  {
   "cell_type": "code",
   "execution_count": 30,
   "id": "abf05914",
   "metadata": {},
   "outputs": [
    {
     "name": "stdout",
     "output_type": "stream",
     "text": [
      "This is a evaluation of the model without HEALTH feature\n",
      "Train R^2: 0.275\n",
      "Train R^2 Adjusted: 0.168\n",
      "R^2_test: 0.198\n",
      "RMSE test: 4.299\n",
      "\n",
      "This is a evaluation of the model without REASON_HOME feature\n",
      "Train R^2: 0.275\n",
      "Train R^2 Adjusted: 0.168\n",
      "R^2_test: 0.211\n",
      "RMSE test: 4.263\n",
      "\n",
      "This is a evaluation of the model without REASON_OTHER feature\n",
      "Train R^2: 0.275\n",
      "Train R^2 Adjusted: 0.168\n",
      "R^2_test: 0.198\n",
      "RMSE test: 4.298\n",
      "\n",
      "This is a evaluation of the model without FJOB_TEACHER feature\n",
      "Train R^2: 0.275\n",
      "Train R^2 Adjusted: 0.168\n",
      "R^2_test: 0.198\n",
      "RMSE test: 4.299\n",
      "\n",
      "This is a evaluation of the model without FREETIME feature\n",
      "Train R^2: 0.275\n",
      "Train R^2 Adjusted: 0.168\n",
      "R^2_test: 0.195\n",
      "RMSE test: 4.306\n",
      "\n",
      "This is a evaluation of the model without MJOB_TEACHER feature\n",
      "Train R^2: 0.276\n",
      "Train R^2 Adjusted: 0.169\n",
      "R^2_test: 0.196\n",
      "RMSE test: 4.304\n",
      "\n",
      "This is a evaluation of the model without TRAVELTIME feature\n",
      "Train R^2: 0.276\n",
      "Train R^2 Adjusted: 0.169\n",
      "R^2_test: 0.201\n",
      "RMSE test: 4.291\n",
      "\n",
      "This is a evaluation of the model without FJOB_SERVICES feature\n",
      "Train R^2: 0.276\n",
      "Train R^2 Adjusted: 0.169\n",
      "R^2_test: 0.202\n",
      "RMSE test: 4.289\n",
      "\n",
      "This is a evaluation of the model without MJOB_OTHER feature\n",
      "Train R^2: 0.276\n",
      "Train R^2 Adjusted: 0.169\n",
      "R^2_test: 0.205\n",
      "RMSE test: 4.278\n",
      "\n",
      "This is a evaluation of the model without FJOB_HEALTH feature\n",
      "Train R^2: 0.276\n",
      "Train R^2 Adjusted: 0.169\n",
      "R^2_test: 0.203\n",
      "RMSE test: 4.286\n",
      "\n"
     ]
    }
   ],
   "source": [
    "# multiple regressions without insignificant variables  (eliminateing one by one)\n",
    "for feature in bad_features:\n",
    "    # temporary variables to save the new dataset\n",
    "    temporary_train_x = train_x.drop([feature], axis = 1)\n",
    "    temporary_test_x = test_x.drop([feature], axis = 1)\n",
    "    # temporary models to see how it changes if bad features are eliminated\n",
    "    temporary_model = sm.OLS(train_y, temporary_train_x)\n",
    "    temporary_results = temporary_model.fit()\n",
    "    print(f\"This is a evaluation of the model without {feature.upper()} feature\")\n",
    "    print(\"Train R^2:\",temporary_results.rsquared.round(3))\n",
    "    print(\"Train R^2 Adjusted:\",temporary_results.rsquared_adj.round(3))\n",
    "    # check prediction on the test set\n",
    "    temporary_y_pred=temporary_results.predict(temporary_test_x)\n",
    "    print('R^2_test:', r2_score(test_y, temporary_y_pred).round(3))\n",
    "    print('RMSE test:', (mean_squared_error(test_y, temporary_y_pred)**0.5).round(3))\n",
    "    print()"
   ]
  },
  {
   "cell_type": "code",
   "execution_count": 31,
   "id": "c0727dee",
   "metadata": {},
   "outputs": [
    {
     "name": "stderr",
     "output_type": "stream",
     "text": [
      "/opt/anaconda3/lib/python3.8/site-packages/pandas/core/generic.py:5494: SettingWithCopyWarning: \n",
      "A value is trying to be set on a copy of a slice from a DataFrame.\n",
      "Try using .loc[row_indexer,col_indexer] = value instead\n",
      "\n",
      "See the caveats in the documentation: https://pandas.pydata.org/pandas-docs/stable/user_guide/indexing.html#returning-a-view-versus-a-copy\n",
      "  self[name] = value\n"
     ]
    }
   ],
   "source": [
    "# transformm to the binary feature\n",
    "\n",
    "data_categorical.Fjob = np.where(data_categorical.Fjob == 'other', 1, 0)"
   ]
  },
  {
   "cell_type": "code",
   "execution_count": 32,
   "id": "4268fc31",
   "metadata": {},
   "outputs": [
    {
     "data": {
      "text/plain": [
       "1    217\n",
       "0    178\n",
       "Name: Fjob, dtype: int64"
      ]
     },
     "execution_count": 32,
     "metadata": {},
     "output_type": "execute_result"
    }
   ],
   "source": [
    "data_categorical.Fjob.value_counts()"
   ]
  },
  {
   "cell_type": "code",
   "execution_count": 33,
   "id": "8d44fc8e",
   "metadata": {},
   "outputs": [
    {
     "data": {
      "text/plain": [
       "other       141\n",
       "services    103\n",
       "at_home      59\n",
       "teacher      58\n",
       "health       34\n",
       "Name: Mjob, dtype: int64"
      ]
     },
     "execution_count": 33,
     "metadata": {},
     "output_type": "execute_result"
    }
   ],
   "source": [
    "data_categorical.Mjob.value_counts()"
   ]
  },
  {
   "cell_type": "code",
   "execution_count": 88,
   "id": "10fab30c",
   "metadata": {},
   "outputs": [
    {
     "name": "stderr",
     "output_type": "stream",
     "text": [
      "/opt/anaconda3/lib/python3.8/site-packages/pandas/core/generic.py:5494: SettingWithCopyWarning: \n",
      "A value is trying to be set on a copy of a slice from a DataFrame.\n",
      "Try using .loc[row_indexer,col_indexer] = value instead\n",
      "\n",
      "See the caveats in the documentation: https://pandas.pydata.org/pandas-docs/stable/user_guide/indexing.html#returning-a-view-versus-a-copy\n",
      "  self[name] = value\n"
     ]
    }
   ],
   "source": [
    "# as some of the categories are not significant we can transform them and merge into others\n",
    "data_categorical.Mjob = np.where(data_categorical.Mjob == 'health' , 'other', data_categorical.Mjob)"
   ]
  },
  {
   "cell_type": "code",
   "execution_count": 89,
   "id": "4346d26d",
   "metadata": {},
   "outputs": [],
   "source": [
    "data_categorical.Mjob = np.where(data_categorical.Mjob == 'teacher' , 'other', data_categorical.Mjob)"
   ]
  },
  {
   "cell_type": "code",
   "execution_count": 90,
   "id": "39d3dd2b",
   "metadata": {},
   "outputs": [],
   "source": [
    "data_categorical.Mjob = np.where(data_categorical.Mjob == 'at_home' , 'other', data_categorical.Mjob)"
   ]
  },
  {
   "cell_type": "code",
   "execution_count": 37,
   "id": "d6c31a92",
   "metadata": {},
   "outputs": [
    {
     "data": {
      "text/plain": [
       "other       292\n",
       "services    103\n",
       "Name: Mjob, dtype: int64"
      ]
     },
     "execution_count": 37,
     "metadata": {},
     "output_type": "execute_result"
    }
   ],
   "source": [
    "data_categorical.Mjob.value_counts()"
   ]
  },
  {
   "cell_type": "code",
   "execution_count": 38,
   "id": "c350f63c",
   "metadata": {},
   "outputs": [],
   "source": [
    "data_categorical.Mjob = np.where(data_categorical.Mjob == 'other', 1, 0)"
   ]
  },
  {
   "cell_type": "code",
   "execution_count": 39,
   "id": "1d2668db",
   "metadata": {},
   "outputs": [
    {
     "data": {
      "text/plain": [
       "1    292\n",
       "0    103\n",
       "Name: Mjob, dtype: int64"
      ]
     },
     "execution_count": 39,
     "metadata": {},
     "output_type": "execute_result"
    }
   ],
   "source": [
    "data_categorical.Mjob.value_counts()"
   ]
  },
  {
   "cell_type": "code",
   "execution_count": 40,
   "id": "2b348660",
   "metadata": {},
   "outputs": [
    {
     "data": {
      "text/html": [
       "<div>\n",
       "<style scoped>\n",
       "    .dataframe tbody tr th:only-of-type {\n",
       "        vertical-align: middle;\n",
       "    }\n",
       "\n",
       "    .dataframe tbody tr th {\n",
       "        vertical-align: top;\n",
       "    }\n",
       "\n",
       "    .dataframe thead th {\n",
       "        text-align: right;\n",
       "    }\n",
       "</style>\n",
       "<table border=\"1\" class=\"dataframe\">\n",
       "  <thead>\n",
       "    <tr style=\"text-align: right;\">\n",
       "      <th></th>\n",
       "      <th>school2</th>\n",
       "      <th>sex</th>\n",
       "      <th>address</th>\n",
       "      <th>famsize</th>\n",
       "      <th>Pstatus</th>\n",
       "      <th>Mjob</th>\n",
       "      <th>Fjob</th>\n",
       "      <th>reason</th>\n",
       "      <th>guardian</th>\n",
       "      <th>schoolsup</th>\n",
       "      <th>famsup</th>\n",
       "      <th>paid</th>\n",
       "      <th>activities</th>\n",
       "      <th>nursery</th>\n",
       "      <th>higher</th>\n",
       "      <th>internet</th>\n",
       "      <th>romantic</th>\n",
       "    </tr>\n",
       "  </thead>\n",
       "  <tbody>\n",
       "    <tr>\n",
       "      <th>0</th>\n",
       "      <td>GP</td>\n",
       "      <td>F</td>\n",
       "      <td>U</td>\n",
       "      <td>GT3</td>\n",
       "      <td>A</td>\n",
       "      <td>1</td>\n",
       "      <td>0</td>\n",
       "      <td>course</td>\n",
       "      <td>mother</td>\n",
       "      <td>yes</td>\n",
       "      <td>no</td>\n",
       "      <td>no</td>\n",
       "      <td>no</td>\n",
       "      <td>yes</td>\n",
       "      <td>yes</td>\n",
       "      <td>no</td>\n",
       "      <td>no</td>\n",
       "    </tr>\n",
       "    <tr>\n",
       "      <th>1</th>\n",
       "      <td>GP</td>\n",
       "      <td>F</td>\n",
       "      <td>U</td>\n",
       "      <td>GT3</td>\n",
       "      <td>T</td>\n",
       "      <td>1</td>\n",
       "      <td>1</td>\n",
       "      <td>course</td>\n",
       "      <td>father</td>\n",
       "      <td>no</td>\n",
       "      <td>yes</td>\n",
       "      <td>no</td>\n",
       "      <td>no</td>\n",
       "      <td>no</td>\n",
       "      <td>yes</td>\n",
       "      <td>yes</td>\n",
       "      <td>no</td>\n",
       "    </tr>\n",
       "    <tr>\n",
       "      <th>2</th>\n",
       "      <td>GP</td>\n",
       "      <td>F</td>\n",
       "      <td>U</td>\n",
       "      <td>LE3</td>\n",
       "      <td>T</td>\n",
       "      <td>1</td>\n",
       "      <td>1</td>\n",
       "      <td>other</td>\n",
       "      <td>mother</td>\n",
       "      <td>yes</td>\n",
       "      <td>no</td>\n",
       "      <td>yes</td>\n",
       "      <td>no</td>\n",
       "      <td>yes</td>\n",
       "      <td>yes</td>\n",
       "      <td>yes</td>\n",
       "      <td>no</td>\n",
       "    </tr>\n",
       "    <tr>\n",
       "      <th>3</th>\n",
       "      <td>GP</td>\n",
       "      <td>F</td>\n",
       "      <td>U</td>\n",
       "      <td>GT3</td>\n",
       "      <td>T</td>\n",
       "      <td>1</td>\n",
       "      <td>0</td>\n",
       "      <td>home</td>\n",
       "      <td>mother</td>\n",
       "      <td>no</td>\n",
       "      <td>yes</td>\n",
       "      <td>yes</td>\n",
       "      <td>yes</td>\n",
       "      <td>yes</td>\n",
       "      <td>yes</td>\n",
       "      <td>yes</td>\n",
       "      <td>yes</td>\n",
       "    </tr>\n",
       "    <tr>\n",
       "      <th>4</th>\n",
       "      <td>GP</td>\n",
       "      <td>F</td>\n",
       "      <td>U</td>\n",
       "      <td>GT3</td>\n",
       "      <td>T</td>\n",
       "      <td>1</td>\n",
       "      <td>1</td>\n",
       "      <td>home</td>\n",
       "      <td>father</td>\n",
       "      <td>no</td>\n",
       "      <td>yes</td>\n",
       "      <td>yes</td>\n",
       "      <td>no</td>\n",
       "      <td>yes</td>\n",
       "      <td>yes</td>\n",
       "      <td>no</td>\n",
       "      <td>no</td>\n",
       "    </tr>\n",
       "  </tbody>\n",
       "</table>\n",
       "</div>"
      ],
      "text/plain": [
       "  school2 sex address famsize Pstatus  Mjob  Fjob  reason guardian schoolsup  \\\n",
       "0      GP   F       U     GT3       A     1     0  course   mother       yes   \n",
       "1      GP   F       U     GT3       T     1     1  course   father        no   \n",
       "2      GP   F       U     LE3       T     1     1   other   mother       yes   \n",
       "3      GP   F       U     GT3       T     1     0    home   mother        no   \n",
       "4      GP   F       U     GT3       T     1     1    home   father        no   \n",
       "\n",
       "  famsup paid activities nursery higher internet romantic  \n",
       "0     no   no         no     yes    yes       no       no  \n",
       "1    yes   no         no      no    yes      yes       no  \n",
       "2     no  yes         no     yes    yes      yes       no  \n",
       "3    yes  yes        yes     yes    yes      yes      yes  \n",
       "4    yes  yes         no     yes    yes       no       no  "
      ]
     },
     "execution_count": 40,
     "metadata": {},
     "output_type": "execute_result"
    }
   ],
   "source": [
    "data_categorical.head()"
   ]
  },
  {
   "cell_type": "code",
   "execution_count": 41,
   "id": "a5ac4ddb",
   "metadata": {},
   "outputs": [
    {
     "data": {
      "text/plain": [
       "mother    273\n",
       "father     90\n",
       "other      32\n",
       "Name: guardian, dtype: int64"
      ]
     },
     "execution_count": 41,
     "metadata": {},
     "output_type": "execute_result"
    }
   ],
   "source": [
    "data_categorical.guardian.value_counts()"
   ]
  },
  {
   "cell_type": "code",
   "execution_count": 42,
   "id": "849a52b3",
   "metadata": {},
   "outputs": [
    {
     "name": "stderr",
     "output_type": "stream",
     "text": [
      "/opt/anaconda3/lib/python3.8/site-packages/pandas/core/generic.py:5494: SettingWithCopyWarning: \n",
      "A value is trying to be set on a copy of a slice from a DataFrame.\n",
      "Try using .loc[row_indexer,col_indexer] = value instead\n",
      "\n",
      "See the caveats in the documentation: https://pandas.pydata.org/pandas-docs/stable/user_guide/indexing.html#returning-a-view-versus-a-copy\n",
      "  self[name] = value\n"
     ]
    }
   ],
   "source": [
    "data_categorical.guardian = np.where(data_categorical.Mjob == 'other' , 'mother', data_categorical.guardian)"
   ]
  },
  {
   "cell_type": "code",
   "execution_count": 43,
   "id": "96707522",
   "metadata": {},
   "outputs": [],
   "source": [
    "data_categorical.guardian = np.where(data_categorical.guardian == 'father', 1, 0)"
   ]
  },
  {
   "cell_type": "code",
   "execution_count": 44,
   "id": "b45792b9",
   "metadata": {},
   "outputs": [
    {
     "data": {
      "text/plain": [
       "0    305\n",
       "1     90\n",
       "Name: guardian, dtype: int64"
      ]
     },
     "execution_count": 44,
     "metadata": {},
     "output_type": "execute_result"
    }
   ],
   "source": [
    "data_categorical.guardian.value_counts()"
   ]
  },
  {
   "cell_type": "code",
   "execution_count": 45,
   "id": "538453cd",
   "metadata": {},
   "outputs": [],
   "source": [
    "# as we have mothers mostly as guardians, I decided to remove the other options"
   ]
  },
  {
   "cell_type": "code",
   "execution_count": 46,
   "id": "b3be4452",
   "metadata": {},
   "outputs": [
    {
     "data": {
      "text/plain": [
       "course        145\n",
       "home          109\n",
       "reputation    105\n",
       "other          36\n",
       "Name: reason, dtype: int64"
      ]
     },
     "execution_count": 46,
     "metadata": {},
     "output_type": "execute_result"
    }
   ],
   "source": [
    "data_categorical.reason.value_counts()"
   ]
  },
  {
   "cell_type": "code",
   "execution_count": 47,
   "id": "548983b8",
   "metadata": {},
   "outputs": [],
   "source": [
    "data_categorical.reason = np.where(data_categorical.reason == 'course' , 'general_reason', data_categorical.reason)"
   ]
  },
  {
   "cell_type": "code",
   "execution_count": 48,
   "id": "51bc78c6",
   "metadata": {},
   "outputs": [],
   "source": [
    "data_categorical.reason = np.where(data_categorical.reason == 'home' , 'general_reason', data_categorical.reason)"
   ]
  },
  {
   "cell_type": "code",
   "execution_count": 49,
   "id": "b5b32656",
   "metadata": {},
   "outputs": [],
   "source": [
    "data_categorical.reason = np.where(data_categorical.reason == 'reputation' , 'general_reason', data_categorical.reason)"
   ]
  },
  {
   "cell_type": "code",
   "execution_count": 50,
   "id": "39889f5c",
   "metadata": {},
   "outputs": [],
   "source": [
    "data_categorical.reason = np.where(data_categorical.reason == 'other' , 'general_reason', data_categorical.reason)"
   ]
  },
  {
   "cell_type": "code",
   "execution_count": 91,
   "id": "5c2df433",
   "metadata": {},
   "outputs": [],
   "source": [
    "# all the reason variables were not significant, so they were classified into one \"general reason\""
   ]
  },
  {
   "cell_type": "code",
   "execution_count": 52,
   "id": "9e50523d",
   "metadata": {},
   "outputs": [],
   "source": [
    "data_numeric1=data_numeric.drop(['freetime',  'traveltime','health'], axis=1)"
   ]
  },
  {
   "cell_type": "code",
   "execution_count": 92,
   "id": "374f1154",
   "metadata": {},
   "outputs": [],
   "source": [
    "# drop freetime and traveltime, health as they are not significant"
   ]
  },
  {
   "cell_type": "code",
   "execution_count": 93,
   "id": "9c5a4b1f",
   "metadata": {},
   "outputs": [],
   "source": [
    "data_numeric1.absences=np.exp(-data_numeric1.absences)"
   ]
  },
  {
   "cell_type": "code",
   "execution_count": 94,
   "id": "7272acbc",
   "metadata": {},
   "outputs": [
    {
     "data": {
      "text/plain": [
       "['age',\n",
       " 'Medu',\n",
       " 'Fedu',\n",
       " 'studytime',\n",
       " 'failures',\n",
       " 'famrel',\n",
       " 'goout',\n",
       " 'Dalc',\n",
       " 'Walc',\n",
       " 'absences',\n",
       " 'Final_Grade']"
      ]
     },
     "execution_count": 94,
     "metadata": {},
     "output_type": "execute_result"
    }
   ],
   "source": [
    "data_numeric1.columns.tolist()"
   ]
  },
  {
   "cell_type": "code",
   "execution_count": 95,
   "id": "4991689f",
   "metadata": {},
   "outputs": [
    {
     "name": "stderr",
     "output_type": "stream",
     "text": [
      "/opt/anaconda3/lib/python3.8/site-packages/seaborn/distributions.py:2557: FutureWarning: `distplot` is a deprecated function and will be removed in a future version. Please adapt your code to use either `displot` (a figure-level function with similar flexibility) or `histplot` (an axes-level function for histograms).\n",
      "  warnings.warn(msg, FutureWarning)\n"
     ]
    },
    {
     "data": {
      "text/plain": [
       "<AxesSubplot:xlabel='age', ylabel='Density'>"
      ]
     },
     "execution_count": 95,
     "metadata": {},
     "output_type": "execute_result"
    },
    {
     "data": {
      "image/png": "[encoded data removed]",
      "text/plain": [
       "<Figure size 432x288 with 1 Axes>"
      ]
     },
     "metadata": {
      "needs_background": "light"
     },
     "output_type": "display_data"
    }
   ],
   "source": [
    "# examine the value distribution of  numeric features\n",
    "\n",
    "\n",
    "sns.distplot(data_numeric1['age'])\n"
   ]
  },
  {
   "cell_type": "code",
   "execution_count": 96,
   "id": "af16cb34",
   "metadata": {},
   "outputs": [
    {
     "name": "stderr",
     "output_type": "stream",
     "text": [
      "/opt/anaconda3/lib/python3.8/site-packages/seaborn/distributions.py:2557: FutureWarning: `distplot` is a deprecated function and will be removed in a future version. Please adapt your code to use either `displot` (a figure-level function with similar flexibility) or `histplot` (an axes-level function for histograms).\n",
      "  warnings.warn(msg, FutureWarning)\n"
     ]
    },
    {
     "data": {
      "text/plain": [
       "<AxesSubplot:xlabel='studytime', ylabel='Density'>"
      ]
     },
     "execution_count": 96,
     "metadata": {},
     "output_type": "execute_result"
    },
    {
     "data": {
      "image/png": "[encoded data removed]",
      "text/plain": [
       "<Figure size 432x288 with 1 Axes>"
      ]
     },
     "metadata": {
      "needs_background": "light"
     },
     "output_type": "display_data"
    }
   ],
   "source": [
    "\n",
    "sns.distplot(data_numeric1['studytime'])"
   ]
  },
  {
   "cell_type": "code",
   "execution_count": 97,
   "id": "d895fa5d",
   "metadata": {},
   "outputs": [
    {
     "name": "stderr",
     "output_type": "stream",
     "text": [
      "/opt/anaconda3/lib/python3.8/site-packages/seaborn/distributions.py:2557: FutureWarning: `distplot` is a deprecated function and will be removed in a future version. Please adapt your code to use either `displot` (a figure-level function with similar flexibility) or `histplot` (an axes-level function for histograms).\n",
      "  warnings.warn(msg, FutureWarning)\n"
     ]
    },
    {
     "data": {
      "text/plain": [
       "<AxesSubplot:xlabel='Medu', ylabel='Density'>"
      ]
     },
     "execution_count": 97,
     "metadata": {},
     "output_type": "execute_result"
    },
    {
     "data": {
      "image/png": "[encoded data removed]",
      "text/plain": [
       "<Figure size 432x288 with 1 Axes>"
      ]
     },
     "metadata": {
      "needs_background": "light"
     },
     "output_type": "display_data"
    }
   ],
   "source": [
    "\n",
    "sns.distplot(data_numeric1['Medu'])"
   ]
  },
  {
   "cell_type": "code",
   "execution_count": 98,
   "id": "b3eb0b37",
   "metadata": {},
   "outputs": [
    {
     "name": "stderr",
     "output_type": "stream",
     "text": [
      "/opt/anaconda3/lib/python3.8/site-packages/seaborn/distributions.py:2557: FutureWarning: `distplot` is a deprecated function and will be removed in a future version. Please adapt your code to use either `displot` (a figure-level function with similar flexibility) or `histplot` (an axes-level function for histograms).\n",
      "  warnings.warn(msg, FutureWarning)\n"
     ]
    },
    {
     "data": {
      "text/plain": [
       "<AxesSubplot:xlabel='Fedu', ylabel='Density'>"
      ]
     },
     "execution_count": 98,
     "metadata": {},
     "output_type": "execute_result"
    },
    {
     "data": {
      "image/png": "[encoded data removed]",
      "text/plain": [
       "<Figure size 432x288 with 1 Axes>"
      ]
     },
     "metadata": {
      "needs_background": "light"
     },
     "output_type": "display_data"
    }
   ],
   "source": [
    "\n",
    "sns.distplot(data_numeric1['Fedu'])"
   ]
  },
  {
   "cell_type": "code",
   "execution_count": 99,
   "id": "e557869c",
   "metadata": {},
   "outputs": [
    {
     "name": "stderr",
     "output_type": "stream",
     "text": [
      "/opt/anaconda3/lib/python3.8/site-packages/seaborn/distributions.py:2557: FutureWarning: `distplot` is a deprecated function and will be removed in a future version. Please adapt your code to use either `displot` (a figure-level function with similar flexibility) or `histplot` (an axes-level function for histograms).\n",
      "  warnings.warn(msg, FutureWarning)\n"
     ]
    },
    {
     "data": {
      "text/plain": [
       "<AxesSubplot:xlabel='failures', ylabel='Density'>"
      ]
     },
     "execution_count": 99,
     "metadata": {},
     "output_type": "execute_result"
    },
    {
     "data": {
      "image/png": "[encoded data removed]",
      "text/plain": [
       "<Figure size 432x288 with 1 Axes>"
      ]
     },
     "metadata": {
      "needs_background": "light"
     },
     "output_type": "display_data"
    }
   ],
   "source": [
    "\n",
    "sns.distplot(data_numeric1['failures'])"
   ]
  },
  {
   "cell_type": "code",
   "execution_count": 100,
   "id": "2f6e8a99",
   "metadata": {},
   "outputs": [
    {
     "name": "stderr",
     "output_type": "stream",
     "text": [
      "/opt/anaconda3/lib/python3.8/site-packages/seaborn/distributions.py:2557: FutureWarning: `distplot` is a deprecated function and will be removed in a future version. Please adapt your code to use either `displot` (a figure-level function with similar flexibility) or `histplot` (an axes-level function for histograms).\n",
      "  warnings.warn(msg, FutureWarning)\n"
     ]
    },
    {
     "data": {
      "text/plain": [
       "<AxesSubplot:xlabel='famrel', ylabel='Density'>"
      ]
     },
     "execution_count": 100,
     "metadata": {},
     "output_type": "execute_result"
    },
    {
     "data": {
      "image/png": "[encoded data removed]",
      "text/plain": [
       "<Figure size 432x288 with 1 Axes>"
      ]
     },
     "metadata": {
      "needs_background": "light"
     },
     "output_type": "display_data"
    }
   ],
   "source": [
    "\n",
    "sns.distplot(data_numeric1['famrel'])"
   ]
  },
  {
   "cell_type": "code",
   "execution_count": 101,
   "id": "d9c40dbf",
   "metadata": {},
   "outputs": [
    {
     "name": "stderr",
     "output_type": "stream",
     "text": [
      "/opt/anaconda3/lib/python3.8/site-packages/seaborn/distributions.py:2557: FutureWarning: `distplot` is a deprecated function and will be removed in a future version. Please adapt your code to use either `displot` (a figure-level function with similar flexibility) or `histplot` (an axes-level function for histograms).\n",
      "  warnings.warn(msg, FutureWarning)\n"
     ]
    },
    {
     "data": {
      "text/plain": [
       "<AxesSubplot:xlabel='absences', ylabel='Density'>"
      ]
     },
     "execution_count": 101,
     "metadata": {},
     "output_type": "execute_result"
    },
    {
     "data": {
      "image/png": "[encoded data removed]",
      "text/plain": [
       "<Figure size 432x288 with 1 Axes>"
      ]
     },
     "metadata": {
      "needs_background": "light"
     },
     "output_type": "display_data"
    }
   ],
   "source": [
    "\n",
    "sns.distplot(data_numeric1['absences'])"
   ]
  },
  {
   "cell_type": "code",
   "execution_count": 102,
   "id": "6bdd3d77",
   "metadata": {},
   "outputs": [
    {
     "data": {
      "image/png": "[encoded data removed]",
      "text/plain": [
       "<Figure size 432x288 with 1 Axes>"
      ]
     },
     "metadata": {
      "needs_background": "light"
     },
     "output_type": "display_data"
    },
    {
     "data": {
      "image/png": "[encoded data removed]",
      "text/plain": [
       "<Figure size 432x288 with 1 Axes>"
      ]
     },
     "metadata": {
      "needs_background": "light"
     },
     "output_type": "display_data"
    },
    {
     "data": {
      "image/png": "[encoded data removed]",
      "text/plain": [
       "<Figure size 432x288 with 1 Axes>"
      ]
     },
     "metadata": {
      "needs_background": "light"
     },
     "output_type": "display_data"
    },
    {
     "data": {
      "image/png": "[encoded data removed]",
      "text/plain": [
       "<Figure size 432x288 with 1 Axes>"
      ]
     },
     "metadata": {
      "needs_background": "light"
     },
     "output_type": "display_data"
    }
   ],
   "source": [
    "# boxplot for relationship between target and some object variables\n",
    "\n",
    "\n",
    "for i in data_numeric1[['absences', 'failures','Fedu', 'Medu']]:\n",
    "    sns.boxplot(x=data[i], y=data['Final_Grade'])\n",
    "    plt.title(f\"{i}_Grade\")\n",
    "    plt.show()"
   ]
  },
  {
   "cell_type": "markdown",
   "id": "38aba429",
   "metadata": {},
   "source": [
    "## Creating a new Model"
   ]
  },
  {
   "cell_type": "code",
   "execution_count": 103,
   "id": "3c88b908",
   "metadata": {},
   "outputs": [
    {
     "data": {
      "text/html": [
       "<div>\n",
       "<style scoped>\n",
       "    .dataframe tbody tr th:only-of-type {\n",
       "        vertical-align: middle;\n",
       "    }\n",
       "\n",
       "    .dataframe tbody tr th {\n",
       "        vertical-align: top;\n",
       "    }\n",
       "\n",
       "    .dataframe thead th {\n",
       "        text-align: right;\n",
       "    }\n",
       "</style>\n",
       "<table border=\"1\" class=\"dataframe\">\n",
       "  <thead>\n",
       "    <tr style=\"text-align: right;\">\n",
       "      <th></th>\n",
       "      <th>Fjob</th>\n",
       "      <th>guardian</th>\n",
       "      <th>school2_MS</th>\n",
       "      <th>sex_M</th>\n",
       "      <th>address_U</th>\n",
       "      <th>famsize_LE3</th>\n",
       "      <th>Pstatus_T</th>\n",
       "      <th>Mjob_1</th>\n",
       "      <th>schoolsup_yes</th>\n",
       "      <th>famsup_yes</th>\n",
       "      <th>paid_yes</th>\n",
       "      <th>activities_yes</th>\n",
       "      <th>nursery_yes</th>\n",
       "      <th>higher_yes</th>\n",
       "      <th>internet_yes</th>\n",
       "      <th>romantic_yes</th>\n",
       "    </tr>\n",
       "  </thead>\n",
       "  <tbody>\n",
       "    <tr>\n",
       "      <th>0</th>\n",
       "      <td>0</td>\n",
       "      <td>0</td>\n",
       "      <td>0</td>\n",
       "      <td>0</td>\n",
       "      <td>1</td>\n",
       "      <td>0</td>\n",
       "      <td>0</td>\n",
       "      <td>1</td>\n",
       "      <td>1</td>\n",
       "      <td>0</td>\n",
       "      <td>0</td>\n",
       "      <td>0</td>\n",
       "      <td>1</td>\n",
       "      <td>1</td>\n",
       "      <td>0</td>\n",
       "      <td>0</td>\n",
       "    </tr>\n",
       "    <tr>\n",
       "      <th>1</th>\n",
       "      <td>1</td>\n",
       "      <td>1</td>\n",
       "      <td>0</td>\n",
       "      <td>0</td>\n",
       "      <td>1</td>\n",
       "      <td>0</td>\n",
       "      <td>1</td>\n",
       "      <td>1</td>\n",
       "      <td>0</td>\n",
       "      <td>1</td>\n",
       "      <td>0</td>\n",
       "      <td>0</td>\n",
       "      <td>0</td>\n",
       "      <td>1</td>\n",
       "      <td>1</td>\n",
       "      <td>0</td>\n",
       "    </tr>\n",
       "    <tr>\n",
       "      <th>2</th>\n",
       "      <td>1</td>\n",
       "      <td>0</td>\n",
       "      <td>0</td>\n",
       "      <td>0</td>\n",
       "      <td>1</td>\n",
       "      <td>1</td>\n",
       "      <td>1</td>\n",
       "      <td>1</td>\n",
       "      <td>1</td>\n",
       "      <td>0</td>\n",
       "      <td>1</td>\n",
       "      <td>0</td>\n",
       "      <td>1</td>\n",
       "      <td>1</td>\n",
       "      <td>1</td>\n",
       "      <td>0</td>\n",
       "    </tr>\n",
       "    <tr>\n",
       "      <th>3</th>\n",
       "      <td>0</td>\n",
       "      <td>0</td>\n",
       "      <td>0</td>\n",
       "      <td>0</td>\n",
       "      <td>1</td>\n",
       "      <td>0</td>\n",
       "      <td>1</td>\n",
       "      <td>1</td>\n",
       "      <td>0</td>\n",
       "      <td>1</td>\n",
       "      <td>1</td>\n",
       "      <td>1</td>\n",
       "      <td>1</td>\n",
       "      <td>1</td>\n",
       "      <td>1</td>\n",
       "      <td>1</td>\n",
       "    </tr>\n",
       "    <tr>\n",
       "      <th>4</th>\n",
       "      <td>1</td>\n",
       "      <td>1</td>\n",
       "      <td>0</td>\n",
       "      <td>0</td>\n",
       "      <td>1</td>\n",
       "      <td>0</td>\n",
       "      <td>1</td>\n",
       "      <td>1</td>\n",
       "      <td>0</td>\n",
       "      <td>1</td>\n",
       "      <td>1</td>\n",
       "      <td>0</td>\n",
       "      <td>1</td>\n",
       "      <td>1</td>\n",
       "      <td>0</td>\n",
       "      <td>0</td>\n",
       "    </tr>\n",
       "  </tbody>\n",
       "</table>\n",
       "</div>"
      ],
      "text/plain": [
       "   Fjob  guardian  school2_MS  sex_M  address_U  famsize_LE3  Pstatus_T  \\\n",
       "0     0         0           0      0          1            0          0   \n",
       "1     1         1           0      0          1            0          1   \n",
       "2     1         0           0      0          1            1          1   \n",
       "3     0         0           0      0          1            0          1   \n",
       "4     1         1           0      0          1            0          1   \n",
       "\n",
       "   Mjob_1  schoolsup_yes  famsup_yes  paid_yes  activities_yes  nursery_yes  \\\n",
       "0       1              1           0         0               0            1   \n",
       "1       1              0           1         0               0            0   \n",
       "2       1              1           0         1               0            1   \n",
       "3       1              0           1         1               1            1   \n",
       "4       1              0           1         1               0            1   \n",
       "\n",
       "   higher_yes  internet_yes  romantic_yes  \n",
       "0           1             0             0  \n",
       "1           1             1             0  \n",
       "2           1             1             0  \n",
       "3           1             1             1  \n",
       "4           1             0             0  "
      ]
     },
     "execution_count": 103,
     "metadata": {},
     "output_type": "execute_result"
    }
   ],
   "source": [
    "# dummy \n",
    "\n",
    "data_dummies = pd.get_dummies(data_categorical, drop_first = True)\n",
    "data_dummies.head()"
   ]
  },
  {
   "cell_type": "code",
   "execution_count": 65,
   "id": "1c001524",
   "metadata": {},
   "outputs": [],
   "source": [
    "data_model1 = data_numeric1.join(data_dummies, how = 'left')"
   ]
  },
  {
   "cell_type": "code",
   "execution_count": 66,
   "id": "fb4211bf",
   "metadata": {},
   "outputs": [
    {
     "data": {
      "text/html": [
       "<div>\n",
       "<style scoped>\n",
       "    .dataframe tbody tr th:only-of-type {\n",
       "        vertical-align: middle;\n",
       "    }\n",
       "\n",
       "    .dataframe tbody tr th {\n",
       "        vertical-align: top;\n",
       "    }\n",
       "\n",
       "    .dataframe thead th {\n",
       "        text-align: right;\n",
       "    }\n",
       "</style>\n",
       "<table border=\"1\" class=\"dataframe\">\n",
       "  <thead>\n",
       "    <tr style=\"text-align: right;\">\n",
       "      <th></th>\n",
       "      <th>age</th>\n",
       "      <th>Medu</th>\n",
       "      <th>Fedu</th>\n",
       "      <th>studytime</th>\n",
       "      <th>failures</th>\n",
       "      <th>famrel</th>\n",
       "      <th>goout</th>\n",
       "      <th>Dalc</th>\n",
       "      <th>Walc</th>\n",
       "      <th>absences</th>\n",
       "      <th>...</th>\n",
       "      <th>famsize_LE3</th>\n",
       "      <th>Pstatus_T</th>\n",
       "      <th>schoolsup_yes</th>\n",
       "      <th>famsup_yes</th>\n",
       "      <th>paid_yes</th>\n",
       "      <th>activities_yes</th>\n",
       "      <th>nursery_yes</th>\n",
       "      <th>higher_yes</th>\n",
       "      <th>internet_yes</th>\n",
       "      <th>romantic_yes</th>\n",
       "    </tr>\n",
       "  </thead>\n",
       "  <tbody>\n",
       "    <tr>\n",
       "      <th>0</th>\n",
       "      <td>18</td>\n",
       "      <td>4</td>\n",
       "      <td>4</td>\n",
       "      <td>2</td>\n",
       "      <td>0</td>\n",
       "      <td>4</td>\n",
       "      <td>4</td>\n",
       "      <td>1</td>\n",
       "      <td>1</td>\n",
       "      <td>0.002479</td>\n",
       "      <td>...</td>\n",
       "      <td>0</td>\n",
       "      <td>0</td>\n",
       "      <td>1</td>\n",
       "      <td>0</td>\n",
       "      <td>0</td>\n",
       "      <td>0</td>\n",
       "      <td>1</td>\n",
       "      <td>1</td>\n",
       "      <td>0</td>\n",
       "      <td>0</td>\n",
       "    </tr>\n",
       "    <tr>\n",
       "      <th>1</th>\n",
       "      <td>17</td>\n",
       "      <td>1</td>\n",
       "      <td>1</td>\n",
       "      <td>2</td>\n",
       "      <td>0</td>\n",
       "      <td>5</td>\n",
       "      <td>3</td>\n",
       "      <td>1</td>\n",
       "      <td>1</td>\n",
       "      <td>0.018316</td>\n",
       "      <td>...</td>\n",
       "      <td>0</td>\n",
       "      <td>1</td>\n",
       "      <td>0</td>\n",
       "      <td>1</td>\n",
       "      <td>0</td>\n",
       "      <td>0</td>\n",
       "      <td>0</td>\n",
       "      <td>1</td>\n",
       "      <td>1</td>\n",
       "      <td>0</td>\n",
       "    </tr>\n",
       "    <tr>\n",
       "      <th>2</th>\n",
       "      <td>15</td>\n",
       "      <td>1</td>\n",
       "      <td>1</td>\n",
       "      <td>2</td>\n",
       "      <td>3</td>\n",
       "      <td>4</td>\n",
       "      <td>2</td>\n",
       "      <td>2</td>\n",
       "      <td>3</td>\n",
       "      <td>0.000045</td>\n",
       "      <td>...</td>\n",
       "      <td>1</td>\n",
       "      <td>1</td>\n",
       "      <td>1</td>\n",
       "      <td>0</td>\n",
       "      <td>1</td>\n",
       "      <td>0</td>\n",
       "      <td>1</td>\n",
       "      <td>1</td>\n",
       "      <td>1</td>\n",
       "      <td>0</td>\n",
       "    </tr>\n",
       "    <tr>\n",
       "      <th>3</th>\n",
       "      <td>15</td>\n",
       "      <td>4</td>\n",
       "      <td>2</td>\n",
       "      <td>3</td>\n",
       "      <td>0</td>\n",
       "      <td>3</td>\n",
       "      <td>2</td>\n",
       "      <td>1</td>\n",
       "      <td>1</td>\n",
       "      <td>0.135335</td>\n",
       "      <td>...</td>\n",
       "      <td>0</td>\n",
       "      <td>1</td>\n",
       "      <td>0</td>\n",
       "      <td>1</td>\n",
       "      <td>1</td>\n",
       "      <td>1</td>\n",
       "      <td>1</td>\n",
       "      <td>1</td>\n",
       "      <td>1</td>\n",
       "      <td>1</td>\n",
       "    </tr>\n",
       "    <tr>\n",
       "      <th>4</th>\n",
       "      <td>16</td>\n",
       "      <td>3</td>\n",
       "      <td>3</td>\n",
       "      <td>2</td>\n",
       "      <td>0</td>\n",
       "      <td>4</td>\n",
       "      <td>2</td>\n",
       "      <td>1</td>\n",
       "      <td>2</td>\n",
       "      <td>0.018316</td>\n",
       "      <td>...</td>\n",
       "      <td>0</td>\n",
       "      <td>1</td>\n",
       "      <td>0</td>\n",
       "      <td>1</td>\n",
       "      <td>1</td>\n",
       "      <td>0</td>\n",
       "      <td>1</td>\n",
       "      <td>1</td>\n",
       "      <td>0</td>\n",
       "      <td>0</td>\n",
       "    </tr>\n",
       "  </tbody>\n",
       "</table>\n",
       "<p>5 rows × 27 columns</p>\n",
       "</div>"
      ],
      "text/plain": [
       "   age  Medu  Fedu  studytime  failures  famrel  goout  Dalc  Walc  absences  \\\n",
       "0   18     4     4          2         0       4      4     1     1  0.002479   \n",
       "1   17     1     1          2         0       5      3     1     1  0.018316   \n",
       "2   15     1     1          2         3       4      2     2     3  0.000045   \n",
       "3   15     4     2          3         0       3      2     1     1  0.135335   \n",
       "4   16     3     3          2         0       4      2     1     2  0.018316   \n",
       "\n",
       "   ...  famsize_LE3  Pstatus_T  schoolsup_yes  famsup_yes  paid_yes  \\\n",
       "0  ...            0          0              1           0         0   \n",
       "1  ...            0          1              0           1         0   \n",
       "2  ...            1          1              1           0         1   \n",
       "3  ...            0          1              0           1         1   \n",
       "4  ...            0          1              0           1         1   \n",
       "\n",
       "   activities_yes  nursery_yes  higher_yes  internet_yes  romantic_yes  \n",
       "0               0            1           1             0             0  \n",
       "1               0            0           1             1             0  \n",
       "2               0            1           1             1             0  \n",
       "3               1            1           1             1             1  \n",
       "4               0            1           1             0             0  \n",
       "\n",
       "[5 rows x 27 columns]"
      ]
     },
     "execution_count": 66,
     "metadata": {},
     "output_type": "execute_result"
    }
   ],
   "source": [
    "data_model1.head()"
   ]
  },
  {
   "cell_type": "code",
   "execution_count": 67,
   "id": "c1715174",
   "metadata": {},
   "outputs": [],
   "source": [
    "Y = data_model1.Final_Grade\n",
    "X = data_model1.drop('Final_Grade', axis = 1)\n",
    "X = sm.add_constant(X)"
   ]
  },
  {
   "cell_type": "code",
   "execution_count": 68,
   "id": "4fda9a3b",
   "metadata": {},
   "outputs": [],
   "source": [
    "# train test split data \n",
    "\n",
    "X0, X1, Y0, Y1 = train_test_split(X, Y, test_size = 0.25, random_state = 42)"
   ]
  },
  {
   "cell_type": "code",
   "execution_count": 72,
   "id": "5a8f233f",
   "metadata": {},
   "outputs": [
    {
     "data": {
      "text/html": [
       "<table class=\"simpletable\">\n",
       "<caption>OLS Regression Results</caption>\n",
       "<tr>\n",
       "  <th>Dep. Variable:</th>       <td>Final_Grade</td>   <th>  R-squared:         </th> <td>   0.330</td>\n",
       "</tr>\n",
       "<tr>\n",
       "  <th>Model:</th>                   <td>OLS</td>       <th>  Adj. R-squared:    </th> <td>   0.265</td>\n",
       "</tr>\n",
       "<tr>\n",
       "  <th>Method:</th>             <td>Least Squares</td>  <th>  F-statistic:       </th> <td>   5.094</td>\n",
       "</tr>\n",
       "<tr>\n",
       "  <th>Date:</th>             <td>Thu, 07 Oct 2021</td> <th>  Prob (F-statistic):</th> <td>1.07e-12</td>\n",
       "</tr>\n",
       "<tr>\n",
       "  <th>Time:</th>                 <td>19:45:04</td>     <th>  Log-Likelihood:    </th> <td> -805.81</td>\n",
       "</tr>\n",
       "<tr>\n",
       "  <th>No. Observations:</th>      <td>   296</td>      <th>  AIC:               </th> <td>   1666.</td>\n",
       "</tr>\n",
       "<tr>\n",
       "  <th>Df Residuals:</th>          <td>   269</td>      <th>  BIC:               </th> <td>   1765.</td>\n",
       "</tr>\n",
       "<tr>\n",
       "  <th>Df Model:</th>              <td>    26</td>      <th>                     </th>     <td> </td>   \n",
       "</tr>\n",
       "<tr>\n",
       "  <th>Covariance Type:</th>      <td>nonrobust</td>    <th>                     </th>     <td> </td>   \n",
       "</tr>\n",
       "</table>\n",
       "<table class=\"simpletable\">\n",
       "<tr>\n",
       "         <td></td>           <th>coef</th>     <th>std err</th>      <th>t</th>      <th>P>|t|</th>  <th>[0.025</th>    <th>0.975]</th>  \n",
       "</tr>\n",
       "<tr>\n",
       "  <th>const</th>          <td>   16.1148</td> <td>    4.220</td> <td>    3.818</td> <td> 0.000</td> <td>    7.806</td> <td>   24.424</td>\n",
       "</tr>\n",
       "<tr>\n",
       "  <th>age</th>            <td>   -0.3579</td> <td>    0.212</td> <td>   -1.692</td> <td> 0.092</td> <td>   -0.774</td> <td>    0.059</td>\n",
       "</tr>\n",
       "<tr>\n",
       "  <th>Medu</th>           <td>    0.6111</td> <td>    0.289</td> <td>    2.115</td> <td> 0.035</td> <td>    0.042</td> <td>    1.180</td>\n",
       "</tr>\n",
       "<tr>\n",
       "  <th>Fedu</th>           <td>   -0.2922</td> <td>    0.294</td> <td>   -0.992</td> <td> 0.322</td> <td>   -0.872</td> <td>    0.287</td>\n",
       "</tr>\n",
       "<tr>\n",
       "  <th>studytime</th>      <td>    0.4332</td> <td>    0.313</td> <td>    1.384</td> <td> 0.168</td> <td>   -0.183</td> <td>    1.050</td>\n",
       "</tr>\n",
       "<tr>\n",
       "  <th>failures</th>       <td>   -1.4630</td> <td>    0.352</td> <td>   -4.161</td> <td> 0.000</td> <td>   -2.155</td> <td>   -0.771</td>\n",
       "</tr>\n",
       "<tr>\n",
       "  <th>famrel</th>         <td>    0.3895</td> <td>    0.271</td> <td>    1.439</td> <td> 0.151</td> <td>   -0.143</td> <td>    0.923</td>\n",
       "</tr>\n",
       "<tr>\n",
       "  <th>goout</th>          <td>   -0.5509</td> <td>    0.240</td> <td>   -2.294</td> <td> 0.023</td> <td>   -1.024</td> <td>   -0.078</td>\n",
       "</tr>\n",
       "<tr>\n",
       "  <th>Dalc</th>           <td>   -0.4089</td> <td>    0.340</td> <td>   -1.202</td> <td> 0.230</td> <td>   -1.079</td> <td>    0.261</td>\n",
       "</tr>\n",
       "<tr>\n",
       "  <th>Walc</th>           <td>    0.0677</td> <td>    0.263</td> <td>    0.257</td> <td> 0.797</td> <td>   -0.450</td> <td>    0.586</td>\n",
       "</tr>\n",
       "<tr>\n",
       "  <th>absences</th>       <td>   -3.3217</td> <td>    0.552</td> <td>   -6.013</td> <td> 0.000</td> <td>   -4.409</td> <td>   -2.234</td>\n",
       "</tr>\n",
       "<tr>\n",
       "  <th>Mjob</th>           <td>   -0.5014</td> <td>    0.527</td> <td>   -0.952</td> <td> 0.342</td> <td>   -1.538</td> <td>    0.536</td>\n",
       "</tr>\n",
       "<tr>\n",
       "  <th>Fjob</th>           <td>   -0.7103</td> <td>    0.509</td> <td>   -1.395</td> <td> 0.164</td> <td>   -1.712</td> <td>    0.292</td>\n",
       "</tr>\n",
       "<tr>\n",
       "  <th>guardian</th>       <td>   -0.2979</td> <td>    0.572</td> <td>   -0.520</td> <td> 0.603</td> <td>   -1.425</td> <td>    0.829</td>\n",
       "</tr>\n",
       "<tr>\n",
       "  <th>school2_MS</th>     <td>    0.9159</td> <td>    0.841</td> <td>    1.089</td> <td> 0.277</td> <td>   -0.739</td> <td>    2.571</td>\n",
       "</tr>\n",
       "<tr>\n",
       "  <th>sex_M</th>          <td>    1.1281</td> <td>    0.529</td> <td>    2.134</td> <td> 0.034</td> <td>    0.087</td> <td>    2.169</td>\n",
       "</tr>\n",
       "<tr>\n",
       "  <th>address_U</th>      <td>    0.4709</td> <td>    0.602</td> <td>    0.782</td> <td> 0.435</td> <td>   -0.715</td> <td>    1.657</td>\n",
       "</tr>\n",
       "<tr>\n",
       "  <th>famsize_LE3</th>    <td>    0.5008</td> <td>    0.519</td> <td>    0.965</td> <td> 0.336</td> <td>   -0.521</td> <td>    1.523</td>\n",
       "</tr>\n",
       "<tr>\n",
       "  <th>Pstatus_T</th>      <td>   -0.6457</td> <td>    0.796</td> <td>   -0.811</td> <td> 0.418</td> <td>   -2.213</td> <td>    0.922</td>\n",
       "</tr>\n",
       "<tr>\n",
       "  <th>schoolsup_yes</th>  <td>   -1.0441</td> <td>    0.693</td> <td>   -1.507</td> <td> 0.133</td> <td>   -2.409</td> <td>    0.320</td>\n",
       "</tr>\n",
       "<tr>\n",
       "  <th>famsup_yes</th>     <td>   -1.1321</td> <td>    0.517</td> <td>   -2.188</td> <td> 0.030</td> <td>   -2.151</td> <td>   -0.114</td>\n",
       "</tr>\n",
       "<tr>\n",
       "  <th>paid_yes</th>       <td>    0.6570</td> <td>    0.514</td> <td>    1.279</td> <td> 0.202</td> <td>   -0.354</td> <td>    1.668</td>\n",
       "</tr>\n",
       "<tr>\n",
       "  <th>activities_yes</th> <td>   -0.6076</td> <td>    0.491</td> <td>   -1.238</td> <td> 0.217</td> <td>   -1.574</td> <td>    0.359</td>\n",
       "</tr>\n",
       "<tr>\n",
       "  <th>nursery_yes</th>    <td>   -0.4113</td> <td>    0.597</td> <td>   -0.689</td> <td> 0.491</td> <td>   -1.587</td> <td>    0.764</td>\n",
       "</tr>\n",
       "<tr>\n",
       "  <th>higher_yes</th>     <td>    1.7489</td> <td>    1.083</td> <td>    1.615</td> <td> 0.107</td> <td>   -0.383</td> <td>    3.881</td>\n",
       "</tr>\n",
       "<tr>\n",
       "  <th>internet_yes</th>   <td>    0.7104</td> <td>    0.651</td> <td>    1.091</td> <td> 0.276</td> <td>   -0.572</td> <td>    1.993</td>\n",
       "</tr>\n",
       "<tr>\n",
       "  <th>romantic_yes</th>   <td>   -0.4523</td> <td>    0.503</td> <td>   -0.899</td> <td> 0.370</td> <td>   -1.443</td> <td>    0.539</td>\n",
       "</tr>\n",
       "</table>\n",
       "<table class=\"simpletable\">\n",
       "<tr>\n",
       "  <th>Omnibus:</th>       <td> 2.693</td> <th>  Durbin-Watson:     </th> <td>   1.877</td>\n",
       "</tr>\n",
       "<tr>\n",
       "  <th>Prob(Omnibus):</th> <td> 0.260</td> <th>  Jarque-Bera (JB):  </th> <td>   2.723</td>\n",
       "</tr>\n",
       "<tr>\n",
       "  <th>Skew:</th>          <td>-0.230</td> <th>  Prob(JB):          </th> <td>   0.256</td>\n",
       "</tr>\n",
       "<tr>\n",
       "  <th>Kurtosis:</th>      <td> 2.900</td> <th>  Cond. No.          </th> <td>    349.</td>\n",
       "</tr>\n",
       "</table><br/><br/>Notes:<br/>[1] Standard Errors assume that the covariance matrix of the errors is correctly specified."
      ],
      "text/plain": [
       "<class 'statsmodels.iolib.summary.Summary'>\n",
       "\"\"\"\n",
       "                            OLS Regression Results                            \n",
       "==============================================================================\n",
       "Dep. Variable:            Final_Grade   R-squared:                       0.330\n",
       "Model:                            OLS   Adj. R-squared:                  0.265\n",
       "Method:                 Least Squares   F-statistic:                     5.094\n",
       "Date:                Thu, 07 Oct 2021   Prob (F-statistic):           1.07e-12\n",
       "Time:                        19:45:04   Log-Likelihood:                -805.81\n",
       "No. Observations:                 296   AIC:                             1666.\n",
       "Df Residuals:                     269   BIC:                             1765.\n",
       "Df Model:                          26                                         \n",
       "Covariance Type:            nonrobust                                         \n",
       "==================================================================================\n",
       "                     coef    std err          t      P>|t|      [0.025      0.975]\n",
       "----------------------------------------------------------------------------------\n",
       "const             16.1148      4.220      3.818      0.000       7.806      24.424\n",
       "age               -0.3579      0.212     -1.692      0.092      -0.774       0.059\n",
       "Medu               0.6111      0.289      2.115      0.035       0.042       1.180\n",
       "Fedu              -0.2922      0.294     -0.992      0.322      -0.872       0.287\n",
       "studytime          0.4332      0.313      1.384      0.168      -0.183       1.050\n",
       "failures          -1.4630      0.352     -4.161      0.000      -2.155      -0.771\n",
       "famrel             0.3895      0.271      1.439      0.151      -0.143       0.923\n",
       "goout             -0.5509      0.240     -2.294      0.023      -1.024      -0.078\n",
       "Dalc              -0.4089      0.340     -1.202      0.230      -1.079       0.261\n",
       "Walc               0.0677      0.263      0.257      0.797      -0.450       0.586\n",
       "absences          -3.3217      0.552     -6.013      0.000      -4.409      -2.234\n",
       "Mjob              -0.5014      0.527     -0.952      0.342      -1.538       0.536\n",
       "Fjob              -0.7103      0.509     -1.395      0.164      -1.712       0.292\n",
       "guardian          -0.2979      0.572     -0.520      0.603      -1.425       0.829\n",
       "school2_MS         0.9159      0.841      1.089      0.277      -0.739       2.571\n",
       "sex_M              1.1281      0.529      2.134      0.034       0.087       2.169\n",
       "address_U          0.4709      0.602      0.782      0.435      -0.715       1.657\n",
       "famsize_LE3        0.5008      0.519      0.965      0.336      -0.521       1.523\n",
       "Pstatus_T         -0.6457      0.796     -0.811      0.418      -2.213       0.922\n",
       "schoolsup_yes     -1.0441      0.693     -1.507      0.133      -2.409       0.320\n",
       "famsup_yes        -1.1321      0.517     -2.188      0.030      -2.151      -0.114\n",
       "paid_yes           0.6570      0.514      1.279      0.202      -0.354       1.668\n",
       "activities_yes    -0.6076      0.491     -1.238      0.217      -1.574       0.359\n",
       "nursery_yes       -0.4113      0.597     -0.689      0.491      -1.587       0.764\n",
       "higher_yes         1.7489      1.083      1.615      0.107      -0.383       3.881\n",
       "internet_yes       0.7104      0.651      1.091      0.276      -0.572       1.993\n",
       "romantic_yes      -0.4523      0.503     -0.899      0.370      -1.443       0.539\n",
       "==============================================================================\n",
       "Omnibus:                        2.693   Durbin-Watson:                   1.877\n",
       "Prob(Omnibus):                  0.260   Jarque-Bera (JB):                2.723\n",
       "Skew:                          -0.230   Prob(JB):                        0.256\n",
       "Kurtosis:                       2.900   Cond. No.                         349.\n",
       "==============================================================================\n",
       "\n",
       "Notes:\n",
       "[1] Standard Errors assume that the covariance matrix of the errors is correctly specified.\n",
       "\"\"\""
      ]
     },
     "execution_count": 72,
     "metadata": {},
     "output_type": "execute_result"
    }
   ],
   "source": [
    "# linear model \n",
    "model_linear1 = sm.OLS(Y0, X0)\n",
    "results1 = model_linear1.fit()\n",
    "results1.summary()"
   ]
  },
  {
   "cell_type": "code",
   "execution_count": 85,
   "id": "e04df64f",
   "metadata": {},
   "outputs": [
    {
     "data": {
      "text/plain": [
       "const         1.667976e-04\n",
       "Medu          3.531139e-02\n",
       "failures      4.269352e-05\n",
       "goout         2.254221e-02\n",
       "absences      5.911597e-09\n",
       "sex_M         3.375747e-02\n",
       "famsup_yes    2.950433e-02\n",
       "dtype: float64"
      ]
     },
     "execution_count": 85,
     "metadata": {},
     "output_type": "execute_result"
    }
   ],
   "source": [
    "# significant variables\n",
    "results1.pvalues[results.pvalues<0.05]"
   ]
  },
  {
   "cell_type": "code",
   "execution_count": 86,
   "id": "8db4bef6",
   "metadata": {},
   "outputs": [
    {
     "data": {
      "text/plain": [
       "age               0.091777\n",
       "Fedu              0.321859\n",
       "studytime         0.167646\n",
       "famrel            0.151329\n",
       "Dalc              0.230240\n",
       "Walc              0.797031\n",
       "Mjob              0.341978\n",
       "Fjob              0.164074\n",
       "guardian          0.603190\n",
       "school2_MS        0.276938\n",
       "address_U         0.435054\n",
       "famsize_LE3       0.335574\n",
       "Pstatus_T         0.418109\n",
       "schoolsup_yes     0.133090\n",
       "paid_yes          0.201920\n",
       "activities_yes    0.216789\n",
       "nursery_yes       0.491464\n",
       "higher_yes        0.107429\n",
       "internet_yes      0.276365\n",
       "romantic_yes      0.369608\n",
       "dtype: float64"
      ]
     },
     "execution_count": 86,
     "metadata": {},
     "output_type": "execute_result"
    }
   ],
   "source": [
    "results1.pvalues[results.pvalues>0.05]"
   ]
  },
  {
   "cell_type": "markdown",
   "id": "707b174a",
   "metadata": {},
   "source": [
    "## Checking LR assumptions using residual analysis\n"
   ]
  },
  {
   "cell_type": "code",
   "execution_count": 73,
   "id": "2137a50d",
   "metadata": {},
   "outputs": [],
   "source": [
    "residuals=results1.resid\n",
    "predicted_values=results1.predict()"
   ]
  },
  {
   "cell_type": "code",
   "execution_count": 74,
   "id": "556fdbc0",
   "metadata": {},
   "outputs": [
    {
     "data": {
      "image/png": "[encoded data removed]",
      "text/plain": [
       "<Figure size 720x360 with 1 Axes>"
      ]
     },
     "metadata": {
      "needs_background": "light"
     },
     "output_type": "display_data"
    }
   ],
   "source": [
    "plt.figure(figsize=(10,5))\n",
    "plt.scatter(predicted_values,residuals)\n",
    "plt.axhline(y=0, c=\"red\")\n",
    "plt.title(\"Residuals vs Predicted values\")\n",
    "plt.ylabel(\"Residuals\")\n",
    "plt.xlabel(\"Predicted values\")\n",
    "plt.show()"
   ]
  },
  {
   "cell_type": "code",
   "execution_count": 75,
   "id": "cd5e6b1a",
   "metadata": {},
   "outputs": [
    {
     "name": "stderr",
     "output_type": "stream",
     "text": [
      "/opt/anaconda3/lib/python3.8/site-packages/seaborn/distributions.py:2557: FutureWarning: `distplot` is a deprecated function and will be removed in a future version. Please adapt your code to use either `displot` (a figure-level function with similar flexibility) or `histplot` (an axes-level function for histograms).\n",
      "  warnings.warn(msg, FutureWarning)\n"
     ]
    },
    {
     "data": {
      "image/png": "[encoded data removed]",
      "text/plain": [
       "<Figure size 432x288 with 1 Axes>"
      ]
     },
     "metadata": {
      "needs_background": "light"
     },
     "output_type": "display_data"
    }
   ],
   "source": [
    "sns.distplot(residuals)\n",
    "plt.show()"
   ]
  },
  {
   "cell_type": "code",
   "execution_count": 76,
   "id": "5c8f5594",
   "metadata": {},
   "outputs": [
    {
     "data": {
      "image/png": "[encoded data removed]",
      "text/plain": [
       "<Figure size 432x288 with 1 Axes>"
      ]
     },
     "metadata": {
      "needs_background": "light"
     },
     "output_type": "display_data"
    }
   ],
   "source": [
    "qqplot(residuals,fit=True, line='45')\n",
    "plt.show()"
   ]
  },
  {
   "cell_type": "code",
   "execution_count": 77,
   "id": "90640d1c",
   "metadata": {},
   "outputs": [],
   "source": [
    "# The residuals distribution plot shows that the distribution is approximately bell-shaped. QQ-plot shows that the there are some outliers, but overall the dots follow the line."
   ]
  },
  {
   "cell_type": "markdown",
   "id": "794d8361",
   "metadata": {},
   "source": [
    "## Linearity and Equal variance"
   ]
  },
  {
   "cell_type": "code",
   "execution_count": 78,
   "id": "d62ff6e2",
   "metadata": {},
   "outputs": [
    {
     "data": {
      "text/plain": [
       "<matplotlib.lines.Line2D at 0x12e64ca00>"
      ]
     },
     "execution_count": 78,
     "metadata": {},
     "output_type": "execute_result"
    },
    {
     "data": {
      "image/png": "[encoded data removed]",
      "text/plain": [
       "<Figure size 432x288 with 1 Axes>"
      ]
     },
     "metadata": {
      "needs_background": "light"
     },
     "output_type": "display_data"
    }
   ],
   "source": [
    "plt.scatter(predicted_values, residuals)\n",
    "plt.axhline(y=0, color='red')"
   ]
  },
  {
   "cell_type": "code",
   "execution_count": 79,
   "id": "74230df8",
   "metadata": {},
   "outputs": [
    {
     "name": "stdout",
     "output_type": "stream",
     "text": [
      "[('Lagrange multiplier statistic', 74.01096783315366), ('p-value', 1.6996542495990522e-06), ('f-value', 3.449399513256275), ('f p-value', 1.610804077839824e-07)]\n"
     ]
    }
   ],
   "source": [
    "#Breusch-Pagan test for homoscedasticity\n",
    "#The null hypothesis assumes homoskedasticity\n",
    "\n",
    "bnames = ['Lagrange multiplier statistic', 'p-value', 'f-value', 'f p-value']\n",
    "breush = het_breuschpagan(residuals, results.model.exog)\n",
    "print(list(zip(bnames, breush)))"
   ]
  },
  {
   "cell_type": "code",
   "execution_count": 80,
   "id": "9ca67520",
   "metadata": {},
   "outputs": [],
   "source": [
    "# We have a big p-value, so we do not have enough evidence to reject the homoscedasticity assumtion. "
   ]
  },
  {
   "cell_type": "code",
   "execution_count": 81,
   "id": "4b2dbf54",
   "metadata": {},
   "outputs": [
    {
     "name": "stdout",
     "output_type": "stream",
     "text": [
      "[('fstat', 1.0620833262441225), ('p-value', 0.36667311614363535)]\n"
     ]
    }
   ],
   "source": [
    "rnames = [\"fstat\", \"p-value\"]\n",
    "rainbow = linear_rainbow(results)\n",
    "print(list(zip(rnames, rainbow)))"
   ]
  },
  {
   "cell_type": "code",
   "execution_count": 82,
   "id": "fed6838b",
   "metadata": {},
   "outputs": [],
   "source": [
    "# Linearity assumption is held (fail to reject), since we have a p-value>0.05."
   ]
  },
  {
   "cell_type": "code",
   "execution_count": null,
   "id": "82840155",
   "metadata": {},
   "outputs": [],
   "source": []
  }
 ],
 "metadata": {
  "kernelspec": {
   "display_name": "Python 3",
   "language": "python",
   "name": "python3"
  },
  "language_info": {
   "codemirror_mode": {
    "name": "ipython",
    "version": 3
   },
   "file_extension": ".py",
   "mimetype": "text/x-python",
   "name": "python",
   "nbconvert_exporter": "python",
   "pygments_lexer": "ipython3",
   "version": "3.8.8"
  }
 },
 "nbformat": 4,
 "nbformat_minor": 5
}
